{
 "cells": [
  {
   "cell_type": "markdown",
   "id": "0377ec49",
   "metadata": {},
   "source": [
    "### HSMA5 Coding Challenge\n",
    "#### Overview\n",
    "\n",
    "In 2011, The Australian Government (Department of Health and Ageing) made changes to the way that injectable chemotherapy was paid for in private hospitals via the Pharmaceutical Benefits Scheme. Locally known as Intravenous Chemotherapy Supply Programme, the programme resulted in changes in how the price paid to the hospital (or pharmacy services provider) was calculated.\n",
    "\n",
    "These changes described above impacted both independent contractors who provided pharmacy services to private hospitals (Section 90) and internal pharmacy departments (Section 94).\n",
    "We need your help to calculate the impact that these changes will have on the remuneration for chemotherapy. By working through the steps below we want to get you in to a position to be able to address assist with this problem.\n",
    "\n",
    "#### Background\n",
    "\n",
    "First of all, the lowest cost combination of vials was calculated i.e., if the dose was for 1,200 mg and the medication in question came in 500mg (costing AUD 450ea.) and 100mg (costing AUD100ea.) vials – the lowest cost combination would be x2 500mg plus 2x 100mg vials (i.e., AUD1,100) (as opposed to x3 500mg vials, AUD1,350 plus 300mg wastage). The lowest cost combinations will always be provided for you.\n",
    "\n",
    "Once the lowest cost combination had been established, a sliding scale markup needed to be applied. Depending on the cost, either a percentage amount was added, or a fixed fee was added, See Table below.\n",
    "\n",
    "|                  Value of Chemotherapy Supplied \t|  % \t| Flat Fee (AUD) \t|\n",
    "|------------------------------------------------:\t|---:\t|-------------:\t|\n",
    "| Less than or Equal to 30                       \t| 15 \t| -            \t|\n",
    "| Greater than 30, Less than or Equal to 45     \t| -  \t| 4.50         \t|\n",
    "| Greater then 45, Less than or Equal to 180    \t| 10 \t|              \t|\n",
    "| Greater than 180, Less than or Equal to 450   \t|    \t| 18.00        \t|\n",
    "| Greater than 450, Less than or Equal to 1,750 \t| 4  \t|              \t|\n",
    "| Greater than 1,750                             \t|    \t| 70.00        \t|\n",
    "\n",
    "Additional Reading (For Interest Only)\n",
    "1. https://www1.health.gov.au/internet/main/publishing.nsf/Content/chemotherapy-review\n",
    "2. https://www.pbs.gov.au/info/browse/section-100/chemotherapy'"
   ]
  },
  {
   "cell_type": "markdown",
   "id": "384cf7f0",
   "metadata": {},
   "source": [
    "#### Task 1\n",
    "\n",
    "First things first, the Finance Manager at ACME Private Hospital wants to make sure you have the ability to assist with the task in hand. So lets start simple.\n",
    "\n",
    "In Australia, Goods and Service Tax (GST) which is similar to VAT, is set at 10%. Unlike the devolved governments across UK, Australian States and Territories receive the revenue collection from GST within their jurisdictions.\n",
    "\n",
    "*Write a function that would take a float an in input and returns the value of that float plus 10%. The use case for this function would be to input the ex. GST price and return the inc. GST price.*"
   ]
  },
  {
   "cell_type": "code",
   "execution_count": 1,
   "id": "bfd0ae9c",
   "metadata": {},
   "outputs": [],
   "source": [
    "# your code goes here\n",
    "def gst(input_value):\n",
    "    return input_value * 1.1\n"
   ]
  },
  {
   "cell_type": "code",
   "execution_count": 2,
   "id": "4d8d6d49",
   "metadata": {},
   "outputs": [
    {
     "data": {
      "text/plain": [
       "11.0"
      ]
     },
     "execution_count": 2,
     "metadata": {},
     "output_type": "execute_result"
    }
   ],
   "source": [
    "gst(10)"
   ]
  },
  {
   "cell_type": "code",
   "execution_count": null,
   "id": "04ec3d66",
   "metadata": {},
   "outputs": [],
   "source": []
  },
  {
   "cell_type": "code",
   "execution_count": null,
   "id": "4139b533",
   "metadata": {},
   "outputs": [],
   "source": []
  },
  {
   "cell_type": "markdown",
   "id": "ad507dae",
   "metadata": {},
   "source": [
    "#### Task 2\n",
    "\n",
    "Great! You've taken your first step!\n",
    "\n",
    "Now you've created a simple function that adds GST (10%) to a float, it's time to set our sights a little higher.\n",
    "\n",
    "Next, create the next generation of your function that will take in two inputs. The first is the ex. GST price i.e., float and the second will be a single character ('G' or 'N') to determine of the item passed in is subject to GST, or not. This function should return the correct value (i.e. depending on whether or not it was subject to GST.)\n",
    "\n",
    "**Hint** You might want to consider conditional logic within the function. If the value is subject to GST is will multiply by 1.1, otherwise it won't."
   ]
  },
  {
   "cell_type": "code",
   "execution_count": 37,
   "id": "81d3d41f",
   "metadata": {},
   "outputs": [],
   "source": [
    "# your code goes here\n",
    "def gst(input_value, gst_status):\n",
    "    while gst_status not in ['N','G']:\n",
    "        print('Ivalid entry!!!!!!!')\n",
    "        gst_status = (input(\"Please enter a valid GST status\")    )\n",
    "        gst_status = gst_status.upper()\n",
    "    \n",
    "    if gst_status == 'G':\n",
    "        return round(input_value * 1.1, 2)\n",
    "    elif gst_status == 'N':\n",
    "        return round(input_value)\n",
    "    else:\n",
    "        print('Ivalid entry')\n",
    "#         while gst_status not in ['N','G']:\n",
    "#             gst_status = input(\"Please enter a valid GST status\")"
   ]
  },
  {
   "cell_type": "code",
   "execution_count": 38,
   "id": "b27e7b5d",
   "metadata": {},
   "outputs": [
    {
     "name": "stdout",
     "output_type": "stream",
     "text": [
      "Ivalid entry!!!!!!!\n"
     ]
    },
    {
     "ename": "KeyboardInterrupt",
     "evalue": "Interrupted by user",
     "output_type": "error",
     "traceback": [
      "\u001b[0;31m---------------------------------------------------------------------------\u001b[0m",
      "\u001b[0;31mKeyboardInterrupt\u001b[0m                         Traceback (most recent call last)",
      "\u001b[0;32m/tmp/ipykernel_38188/3957874052.py\u001b[0m in \u001b[0;36m<module>\u001b[0;34m\u001b[0m\n\u001b[0;32m----> 1\u001b[0;31m \u001b[0mgst\u001b[0m\u001b[0;34m(\u001b[0m\u001b[0;36m100\u001b[0m\u001b[0;34m,\u001b[0m \u001b[0;34m'g'\u001b[0m\u001b[0;34m)\u001b[0m\u001b[0;34m\u001b[0m\u001b[0;34m\u001b[0m\u001b[0m\n\u001b[0m",
      "\u001b[0;32m/tmp/ipykernel_38188/1852511169.py\u001b[0m in \u001b[0;36mgst\u001b[0;34m(input_value, gst_status)\u001b[0m\n\u001b[1;32m      3\u001b[0m     \u001b[0;32mwhile\u001b[0m \u001b[0mgst_status\u001b[0m \u001b[0;32mnot\u001b[0m \u001b[0;32min\u001b[0m \u001b[0;34m[\u001b[0m\u001b[0;34m'N'\u001b[0m\u001b[0;34m,\u001b[0m\u001b[0;34m'G'\u001b[0m\u001b[0;34m]\u001b[0m\u001b[0;34m:\u001b[0m\u001b[0;34m\u001b[0m\u001b[0;34m\u001b[0m\u001b[0m\n\u001b[1;32m      4\u001b[0m         \u001b[0mprint\u001b[0m\u001b[0;34m(\u001b[0m\u001b[0;34m'Ivalid entry!!!!!!!'\u001b[0m\u001b[0;34m)\u001b[0m\u001b[0;34m\u001b[0m\u001b[0;34m\u001b[0m\u001b[0m\n\u001b[0;32m----> 5\u001b[0;31m         \u001b[0mgst_status\u001b[0m \u001b[0;34m=\u001b[0m \u001b[0;34m(\u001b[0m\u001b[0minput\u001b[0m\u001b[0;34m(\u001b[0m\u001b[0;34m\"Please enter a valid GST status\"\u001b[0m\u001b[0;34m)\u001b[0m    \u001b[0;34m)\u001b[0m\u001b[0;34m\u001b[0m\u001b[0;34m\u001b[0m\u001b[0m\n\u001b[0m\u001b[1;32m      6\u001b[0m         \u001b[0mgst_status\u001b[0m \u001b[0;34m=\u001b[0m \u001b[0mgst_status\u001b[0m\u001b[0;34m.\u001b[0m\u001b[0mupper\u001b[0m\u001b[0;34m(\u001b[0m\u001b[0;34m)\u001b[0m\u001b[0;34m\u001b[0m\u001b[0;34m\u001b[0m\u001b[0m\n\u001b[1;32m      7\u001b[0m \u001b[0;34m\u001b[0m\u001b[0m\n",
      "\u001b[0;32m~/miniconda3/lib/python3.9/site-packages/ipykernel/kernelbase.py\u001b[0m in \u001b[0;36mraw_input\u001b[0;34m(self, prompt)\u001b[0m\n\u001b[1;32m   1175\u001b[0m                 \u001b[0;34m\"raw_input was called, but this frontend does not support input requests.\"\u001b[0m\u001b[0;34m\u001b[0m\u001b[0;34m\u001b[0m\u001b[0m\n\u001b[1;32m   1176\u001b[0m             )\n\u001b[0;32m-> 1177\u001b[0;31m         return self._input_request(\n\u001b[0m\u001b[1;32m   1178\u001b[0m             \u001b[0mstr\u001b[0m\u001b[0;34m(\u001b[0m\u001b[0mprompt\u001b[0m\u001b[0;34m)\u001b[0m\u001b[0;34m,\u001b[0m\u001b[0;34m\u001b[0m\u001b[0;34m\u001b[0m\u001b[0m\n\u001b[1;32m   1179\u001b[0m             \u001b[0mself\u001b[0m\u001b[0;34m.\u001b[0m\u001b[0m_parent_ident\u001b[0m\u001b[0;34m[\u001b[0m\u001b[0;34m\"shell\"\u001b[0m\u001b[0;34m]\u001b[0m\u001b[0;34m,\u001b[0m\u001b[0;34m\u001b[0m\u001b[0;34m\u001b[0m\u001b[0m\n",
      "\u001b[0;32m~/miniconda3/lib/python3.9/site-packages/ipykernel/kernelbase.py\u001b[0m in \u001b[0;36m_input_request\u001b[0;34m(self, prompt, ident, parent, password)\u001b[0m\n\u001b[1;32m   1217\u001b[0m             \u001b[0;32mexcept\u001b[0m \u001b[0mKeyboardInterrupt\u001b[0m\u001b[0;34m:\u001b[0m\u001b[0;34m\u001b[0m\u001b[0;34m\u001b[0m\u001b[0m\n\u001b[1;32m   1218\u001b[0m                 \u001b[0;31m# re-raise KeyboardInterrupt, to truncate traceback\u001b[0m\u001b[0;34m\u001b[0m\u001b[0;34m\u001b[0m\u001b[0m\n\u001b[0;32m-> 1219\u001b[0;31m                 \u001b[0;32mraise\u001b[0m \u001b[0mKeyboardInterrupt\u001b[0m\u001b[0;34m(\u001b[0m\u001b[0;34m\"Interrupted by user\"\u001b[0m\u001b[0;34m)\u001b[0m \u001b[0;32mfrom\u001b[0m \u001b[0;32mNone\u001b[0m\u001b[0;34m\u001b[0m\u001b[0;34m\u001b[0m\u001b[0m\n\u001b[0m\u001b[1;32m   1220\u001b[0m             \u001b[0;32mexcept\u001b[0m \u001b[0mException\u001b[0m\u001b[0;34m:\u001b[0m\u001b[0;34m\u001b[0m\u001b[0;34m\u001b[0m\u001b[0m\n\u001b[1;32m   1221\u001b[0m                 \u001b[0mself\u001b[0m\u001b[0;34m.\u001b[0m\u001b[0mlog\u001b[0m\u001b[0;34m.\u001b[0m\u001b[0mwarning\u001b[0m\u001b[0;34m(\u001b[0m\u001b[0;34m\"Invalid Message:\"\u001b[0m\u001b[0;34m,\u001b[0m \u001b[0mexc_info\u001b[0m\u001b[0;34m=\u001b[0m\u001b[0;32mTrue\u001b[0m\u001b[0;34m)\u001b[0m\u001b[0;34m\u001b[0m\u001b[0;34m\u001b[0m\u001b[0m\n",
      "\u001b[0;31mKeyboardInterrupt\u001b[0m: Interrupted by user"
     ]
    }
   ],
   "source": [
    "gst(100, 'g')"
   ]
  },
  {
   "cell_type": "code",
   "execution_count": 15,
   "id": "2e233815",
   "metadata": {},
   "outputs": [
    {
     "data": {
      "text/plain": [
       "200"
      ]
     },
     "execution_count": 15,
     "metadata": {},
     "output_type": "execute_result"
    }
   ],
   "source": [
    "gst(200, 'N')"
   ]
  },
  {
   "cell_type": "code",
   "execution_count": 34,
   "id": "75074747",
   "metadata": {},
   "outputs": [
    {
     "name": "stdout",
     "output_type": "stream",
     "text": [
      "Ivalid entry!!!!!!!\n",
      "Please enter a valid GST statusN\n"
     ]
    },
    {
     "data": {
      "text/plain": [
       "100"
      ]
     },
     "execution_count": 34,
     "metadata": {},
     "output_type": "execute_result"
    }
   ],
   "source": [
    "gst(100, 'n')"
   ]
  },
  {
   "cell_type": "code",
   "execution_count": null,
   "id": "1830d874",
   "metadata": {},
   "outputs": [],
   "source": []
  },
  {
   "cell_type": "code",
   "execution_count": null,
   "id": "779da625",
   "metadata": {},
   "outputs": [],
   "source": []
  },
  {
   "cell_type": "markdown",
   "id": "ff0de7fc",
   "metadata": {},
   "source": [
    "#### Task 3\n",
    "\n",
    "Nice, you’ve overcome the first hurdle - the Finance Manager is confident that you're going to be able to help her team!\n",
    "\n",
    "*The next task is to create a brand new function that will again take in a float as an input but this time, apply the relevant sliding scale mark up, based on the table above.*\n",
    "\n",
    "**Hint** Conditional logic will be your friend here."
   ]
  },
  {
   "cell_type": "markdown",
   "id": "d8ac9218",
   "metadata": {},
   "source": [
    "|                  Value of Chemotherapy Supplied \t|  % \t| Flat Fee (AUD) \t|\n",
    "|------------------------------------------------:\t|---:\t|-------------:\t|\n",
    "| Less than or Equal to 30                       \t| 15 \t| -            \t|\n",
    "| Greater than 30, Less than or Equal to 45     \t| -  \t| 4.50         \t|\n",
    "| Greater then 45, Less than or Equal to 180    \t| 10 \t|              \t|\n",
    "| Greater than 180, Less than or Equal to 450   \t|    \t| 18.00        \t|\n",
    "| Greater than 450, Less than or Equal to 1,750 \t| 4  \t|              \t|\n",
    "| Greater than 1,750                             \t|    \t| 70.00        \t|"
   ]
  },
  {
   "cell_type": "code",
   "execution_count": 25,
   "id": "f0b0e7cf",
   "metadata": {},
   "outputs": [],
   "source": [
    "# your code goes here\n",
    "def icsp_1(input_value):\n",
    "    if input_value <= 30:\n",
    "        return round((input_value * 1.15), 2)\n",
    "    elif input_value > 30 and input_value <= 45: \n",
    "        return round((input_value + 4.5), 2)\n",
    "    elif input_value > 45 and input_value <= 180: \n",
    "        return round((input_value * 1.1), 2)\n",
    "    elif input_value > 180 and input_value <= 450: \n",
    "        return round((input_value + 18), 2)\n",
    "    elif input_value > 450 and input_value <= 1750:\n",
    "        return round((input_value * 1.04), 2)\n",
    "    else:\n",
    "        return round((input_value + 70), 2)"
   ]
  },
  {
   "cell_type": "code",
   "execution_count": 26,
   "id": "18ab47b5",
   "metadata": {},
   "outputs": [
    {
     "data": {
      "text/plain": [
       "17.25"
      ]
     },
     "execution_count": 26,
     "metadata": {},
     "output_type": "execute_result"
    }
   ],
   "source": [
    "icsp_1(15)"
   ]
  },
  {
   "cell_type": "code",
   "execution_count": 27,
   "id": "bdb6091e",
   "metadata": {},
   "outputs": [
    {
     "data": {
      "text/plain": [
       "44.5"
      ]
     },
     "execution_count": 27,
     "metadata": {},
     "output_type": "execute_result"
    }
   ],
   "source": [
    "icsp_1(40)"
   ]
  },
  {
   "cell_type": "code",
   "execution_count": 28,
   "id": "8ec8637e",
   "metadata": {},
   "outputs": [
    {
     "data": {
      "text/plain": [
       "165.0"
      ]
     },
     "execution_count": 28,
     "metadata": {},
     "output_type": "execute_result"
    }
   ],
   "source": [
    "icsp_1(150)"
   ]
  },
  {
   "cell_type": "code",
   "execution_count": 30,
   "id": "ec5a846c",
   "metadata": {},
   "outputs": [
    {
     "data": {
      "text/plain": [
       "218"
      ]
     },
     "execution_count": 30,
     "metadata": {},
     "output_type": "execute_result"
    }
   ],
   "source": [
    "icsp_1(200)"
   ]
  },
  {
   "cell_type": "code",
   "execution_count": 31,
   "id": "e59c2af1",
   "metadata": {},
   "outputs": [
    {
     "data": {
      "text/plain": [
       "520.0"
      ]
     },
     "execution_count": 31,
     "metadata": {},
     "output_type": "execute_result"
    }
   ],
   "source": [
    "icsp_1(500)"
   ]
  },
  {
   "cell_type": "code",
   "execution_count": 32,
   "id": "265e91c8",
   "metadata": {},
   "outputs": [
    {
     "data": {
      "text/plain": [
       "2070"
      ]
     },
     "execution_count": 32,
     "metadata": {},
     "output_type": "execute_result"
    }
   ],
   "source": [
    "icsp_1(2000)"
   ]
  },
  {
   "cell_type": "markdown",
   "id": "763ca283",
   "metadata": {},
   "source": [
    "#### Task 4\n",
    "\n",
    "**Stop the press!!**\n",
    "\n",
    "Annie our friendly Finance Manager has been reading DOHA's documentation in more detail over the weekend and has realised that different fees/ markups apply depending on whether the hospital's pharmacy possesses a Section 90 or Section 94 license.\n",
    "\n",
    "*The next task is to modify the function above making the following changes:*\n",
    "\n",
    "*1. First there should now be two inputs: the cost (float) and a string to identify if the hospital has a `s90` or `s94` license.*\n",
    "\n",
    "*2. The function should then apply the correct markup structure. For `s90` this is exactly the same as you've already coded for the function in Task 3. For `s94` you simply add a flat 1.4% to the cost.*"
   ]
  },
  {
   "cell_type": "code",
   "execution_count": 39,
   "id": "72ad79a1",
   "metadata": {},
   "outputs": [],
   "source": [
    "# your code goes here\n",
    "\n",
    "def icsp_2(input_value, hosp_lic):\n",
    "    while hosp_lic not in ['s90','s94']:\n",
    "        print('Ivalid entry!!!!!!!')\n",
    "        hosp_lic = input(\"Please enter a license type (s90 Vs s94): \")       \n",
    "        \n",
    "    if hosp_lic == 's94':\n",
    "        return round((input_value * 1.04), 2)\n",
    "    else:\n",
    "    \n",
    "        if input_value <= 30:\n",
    "            return round((input_value * 1.15), 2)\n",
    "        elif input_value > 30 and input_value <= 45: \n",
    "            return round((input_value + 4.5), 2)\n",
    "        elif input_value > 45 and input_value <= 180: \n",
    "            return round((input_value * 1.1), 2)\n",
    "        elif input_value > 180 and input_value <= 450: \n",
    "            return round((input_value + 18), 2)\n",
    "        elif input_value > 450 and input_value <= 1750:\n",
    "            return round((input_value * 1.04), 2)\n",
    "        else:\n",
    "            return round((input_value + 70), 2)"
   ]
  },
  {
   "cell_type": "code",
   "execution_count": 40,
   "id": "98bf93ea",
   "metadata": {},
   "outputs": [
    {
     "name": "stdout",
     "output_type": "stream",
     "text": [
      "110.0\n",
      "104.0\n",
      "-----\n",
      "520.0\n",
      "520.0\n",
      "-----\n",
      "2070\n",
      "2080.0\n",
      "-----\n"
     ]
    }
   ],
   "source": [
    "print(icsp_2(100, 's90'))\n",
    "print(icsp_2(100, 's94'))\n",
    "print(\"-----\")\n",
    "\n",
    "print(icsp_2(500, 's90'))\n",
    "print(icsp_2(500, 's94'))\n",
    "print(\"-----\")\n",
    "print(icsp_2(2000, 's90'))\n",
    "print(icsp_2(2000, 's94'))\n",
    "print(\"-----\")"
   ]
  },
  {
   "cell_type": "code",
   "execution_count": 41,
   "id": "b5ec6d5f",
   "metadata": {},
   "outputs": [
    {
     "data": {
      "text/plain": [
       "2080.0"
      ]
     },
     "execution_count": 41,
     "metadata": {},
     "output_type": "execute_result"
    }
   ],
   "source": [
    "2000*1.04"
   ]
  },
  {
   "cell_type": "markdown",
   "id": "8177691b",
   "metadata": {},
   "source": [
    "#### Task 5\n",
    "\n",
    "This difference in marks ups (between s90 and s94) is causing concerns for the CEO of a group of private hospitals. \n",
    "\n",
    "*He’s requested (via Annie) that you create a new function, similar to that in Task 4, except this time it will print the revenue actually received (i.e. depending on whether it was s90 or s94) but additionally state the revenue that would have been received if the hospital in question had held the other license type. And finally, the function should also print the difference in actual versus potential revenue.*\n",
    "\n",
    "**Hint** Don’t be afraid to use sentences (print statements) for this task to avoid it using confusing for the end user."
   ]
  },
  {
   "cell_type": "code",
   "execution_count": 46,
   "id": "1afcedb6",
   "metadata": {},
   "outputs": [],
   "source": [
    "# your code goes here\n",
    "def icsp_3(input_value):\n",
    "    s90_val = 0\n",
    "    \n",
    "    if input_value <= 30:\n",
    "        s90_val =  round((input_value * 1.15), 2)\n",
    "    elif input_value > 30 and input_value <= 45: \n",
    "        s90_val =  round((input_value + 4.5), 2)\n",
    "    elif input_value > 45 and input_value <= 180: \n",
    "        s90_val =  round((input_value * 1.1), 2)\n",
    "    elif input_value > 180 and input_value <= 450: \n",
    "        s90_val =  round((input_value + 18), 2)\n",
    "    elif input_value > 450 and input_value <= 1750:\n",
    "        s90_val =  round((input_value * 1.04), 2)\n",
    "    else:\n",
    "        s90_val =  round((input_value + 70), 2)\n",
    "        \n",
    "    print(f\"The s90 value is {s90_val}.\")\n",
    "    s94 = round(input_value * 1.04, 2)\n",
    "    print(f\"The s94 value is {s94}\")"
   ]
  },
  {
   "cell_type": "code",
   "execution_count": 47,
   "id": "cf1d3e12",
   "metadata": {},
   "outputs": [
    {
     "name": "stdout",
     "output_type": "stream",
     "text": [
      "The s90 value is 11.5.\n",
      "The s94 value is 10.4\n"
     ]
    }
   ],
   "source": [
    "icsp_3(10)"
   ]
  },
  {
   "cell_type": "code",
   "execution_count": 48,
   "id": "0e0f0553",
   "metadata": {},
   "outputs": [
    {
     "name": "stdout",
     "output_type": "stream",
     "text": [
      "The s90 value is 1040.0.\n",
      "The s94 value is 1040.0\n"
     ]
    }
   ],
   "source": [
    "icsp_3(1000)"
   ]
  },
  {
   "cell_type": "code",
   "execution_count": 49,
   "id": "7e4d5ef8",
   "metadata": {},
   "outputs": [
    {
     "name": "stdout",
     "output_type": "stream",
     "text": [
      "The s90 value is 2120.\n",
      "The s94 value is 2132.0\n"
     ]
    }
   ],
   "source": [
    "icsp_3(2050)"
   ]
  },
  {
   "cell_type": "code",
   "execution_count": 50,
   "id": "57d53d9c",
   "metadata": {},
   "outputs": [
    {
     "data": {
      "text/plain": [
       "2132.0"
      ]
     },
     "execution_count": 50,
     "metadata": {},
     "output_type": "execute_result"
    }
   ],
   "source": [
    "2050*1.04\n"
   ]
  },
  {
   "cell_type": "markdown",
   "id": "9a4b54f9",
   "metadata": {},
   "source": [
    "#### Bonus Challenge\n",
    "\n",
    "Chemotherapy can sometimes cost tens of thousands of dollars. Therefore, using the information above, determine if there is a point (cost) at which it is more beneficial to hold a s94 license as opposed to a s90."
   ]
  },
  {
   "cell_type": "code",
   "execution_count": null,
   "id": "da1743b0",
   "metadata": {},
   "outputs": [],
   "source": [
    "# your code goes here"
   ]
  }
 ],
 "metadata": {
  "kernelspec": {
   "display_name": "Python 3 (ipykernel)",
   "language": "python",
   "name": "python3"
  },
  "language_info": {
   "codemirror_mode": {
    "name": "ipython",
    "version": 3
   },
   "file_extension": ".py",
   "mimetype": "text/x-python",
   "name": "python",
   "nbconvert_exporter": "python",
   "pygments_lexer": "ipython3",
   "version": "3.9.12"
  }
 },
 "nbformat": 4,
 "nbformat_minor": 5
}

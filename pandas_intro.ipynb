{
 "cells": [
  {
   "cell_type": "markdown",
   "id": "c2dd2336",
   "metadata": {},
   "source": [
    "#### Intro to Pandas\n",
    "\n",
    "\n",
    "Try attempting the exercises below to help you build your confidence when working with Pandas.\n",
    "\n",
    "Here's a list of references that might help you with the exercises below:\n",
    "\n",
    "[Pandas Series Documentation](https://pandas.pydata.org/docs/reference/api/pandas.Series.html)\n",
    "\n",
    "[Pandas Max Documentation](https://pandas.pydata.org/docs/reference/api/pandas.DataFrame.max.html)\n",
    "\n",
    "[Pandas Mean Documentation](https://pandas.pydata.org/docs/reference/api/pandas.DataFrame.mean.html)\n",
    "\n",
    "[Pandas Median Documentation](https://pandas.pydata.org/docs/reference/api/pandas.DataFrame.median.html)"
   ]
  },
  {
   "cell_type": "markdown",
   "id": "597bd3ac",
   "metadata": {},
   "source": [
    "First things first... Import both Numpy and Pandas. Given them the aliases `np` and `pd` respectively."
   ]
  },
  {
   "cell_type": "code",
   "execution_count": null,
   "id": "3b503106",
   "metadata": {},
   "outputs": [],
   "source": [
    "# your code here"
   ]
  },
  {
   "cell_type": "code",
   "execution_count": 1,
   "id": "9ff3dd84",
   "metadata": {},
   "outputs": [],
   "source": [
    "import pandas as pd\n",
    "import numpy as np"
   ]
  },
  {
   "cell_type": "markdown",
   "id": "22c45555",
   "metadata": {},
   "source": [
    "Convert the list below into a [Pandas Series](https://pandas.pydata.org/docs/reference/api/pandas.Series.html) and save it to a variable called `series1`"
   ]
  },
  {
   "cell_type": "code",
   "execution_count": 2,
   "id": "348cbc11",
   "metadata": {},
   "outputs": [],
   "source": [
    "lst1 = [41.2, 87.5, 54.7, 1.9, 25.7, 99.7, 25.1, 65.1]"
   ]
  },
  {
   "cell_type": "code",
   "execution_count": null,
   "id": "c24dcabe",
   "metadata": {},
   "outputs": [],
   "source": [
    "# your code here"
   ]
  },
  {
   "cell_type": "code",
   "execution_count": 3,
   "id": "fa4f5a4d",
   "metadata": {},
   "outputs": [],
   "source": [
    "series1 = pd.Series(lst1)"
   ]
  },
  {
   "cell_type": "code",
   "execution_count": 9,
   "id": "b9aef516",
   "metadata": {},
   "outputs": [
    {
     "data": {
      "text/plain": [
       "25.1"
      ]
     },
     "execution_count": 9,
     "metadata": {},
     "output_type": "execute_result"
    }
   ],
   "source": [
    "series1[6]"
   ]
  },
  {
   "cell_type": "markdown",
   "id": "37dc6ac0",
   "metadata": {},
   "source": [
    "What type of variable is `series1`? **Hint:** Use the type() function [Check out this page](https://www.w3schools.com/python/ref_func_type.asp)"
   ]
  },
  {
   "cell_type": "code",
   "execution_count": null,
   "id": "efda4a16",
   "metadata": {},
   "outputs": [],
   "source": [
    "# your code here"
   ]
  },
  {
   "cell_type": "code",
   "execution_count": 10,
   "id": "93746474",
   "metadata": {},
   "outputs": [
    {
     "data": {
      "text/plain": [
       "pandas.core.series.Series"
      ]
     },
     "execution_count": 10,
     "metadata": {},
     "output_type": "execute_result"
    }
   ],
   "source": [
    "type(series1)"
   ]
  },
  {
   "cell_type": "markdown",
   "id": "0aa77b50",
   "metadata": {},
   "source": [
    "Return the fifth value in the Series declared above using indexing\n",
    "\n",
    "*Don't forget that indexing starts at 0*"
   ]
  },
  {
   "cell_type": "code",
   "execution_count": null,
   "id": "e0214cc9",
   "metadata": {},
   "outputs": [],
   "source": [
    "# your code here"
   ]
  },
  {
   "cell_type": "code",
   "execution_count": 11,
   "id": "0f65bb0d",
   "metadata": {},
   "outputs": [
    {
     "data": {
      "text/plain": [
       "25.7"
      ]
     },
     "execution_count": 11,
     "metadata": {},
     "output_type": "execute_result"
    }
   ],
   "source": [
    "series1[4]"
   ]
  },
  {
   "cell_type": "markdown",
   "id": "503bfe30",
   "metadata": {},
   "source": [
    "What is the data structure shown below?"
   ]
  },
  {
   "cell_type": "code",
   "execution_count": 26,
   "id": "a6b43b76",
   "metadata": {},
   "outputs": [],
   "source": [
    "x = [[53.1, 95.0, 67.5, 35.0, 78.4],\n",
    "     [61.3, 40.8, 30.8, 37.8, 87.6],\n",
    "     [20.6, 73.2, 44.2, 14.6, 91.8],\n",
    "     [57.4, 10.1, 96.1, 4.2, 69.5],\n",
    "     [83.6, 20.5, 85.4, 22.8, 35.9],\n",
    "     [49.0, 69.0, 0.1, 31.8, 89.1],\n",
    "     [23.3, 40.7, 95.0, 83.8, 26.9],\n",
    "     [27.6, 26.4, 53.8, 88.8, 68.5],\n",
    "     [96.6, 96.4, 53.4, 72.4, 50.1],\n",
    "     [73.7, 39.0, 43.2, 81.6, 34.7]]"
   ]
  },
  {
   "cell_type": "code",
   "execution_count": 27,
   "id": "34db1784",
   "metadata": {},
   "outputs": [
    {
     "data": {
      "text/plain": [
       "list"
      ]
     },
     "execution_count": 27,
     "metadata": {},
     "output_type": "execute_result"
    }
   ],
   "source": [
    "# your answer here\n",
    "type(x)"
   ]
  },
  {
   "cell_type": "code",
   "execution_count": 28,
   "id": "e98044fd",
   "metadata": {},
   "outputs": [
    {
     "data": {
      "text/plain": [
       "53.1"
      ]
     },
     "execution_count": 28,
     "metadata": {},
     "output_type": "execute_result"
    }
   ],
   "source": [
    "x[0][0]"
   ]
  },
  {
   "cell_type": "markdown",
   "id": "44dd77b3",
   "metadata": {},
   "source": [
    "Convert `x` into a Pandas DataFrame called `dfx`"
   ]
  },
  {
   "cell_type": "code",
   "execution_count": 29,
   "id": "5f9d1c0e",
   "metadata": {},
   "outputs": [],
   "source": [
    "# your answer here"
   ]
  },
  {
   "cell_type": "code",
   "execution_count": 30,
   "id": "da1646dd",
   "metadata": {},
   "outputs": [],
   "source": [
    "dfx = pd.DataFrame(x)"
   ]
  },
  {
   "cell_type": "markdown",
   "id": "cb9448aa",
   "metadata": {},
   "source": [
    "Display `dfx`"
   ]
  },
  {
   "cell_type": "code",
   "execution_count": 31,
   "id": "76ac5d8a",
   "metadata": {},
   "outputs": [],
   "source": [
    "# your answer here"
   ]
  },
  {
   "cell_type": "code",
   "execution_count": 32,
   "id": "ac56e0ca",
   "metadata": {},
   "outputs": [
    {
     "data": {
      "text/html": [
       "<div>\n",
       "<style scoped>\n",
       "    .dataframe tbody tr th:only-of-type {\n",
       "        vertical-align: middle;\n",
       "    }\n",
       "\n",
       "    .dataframe tbody tr th {\n",
       "        vertical-align: top;\n",
       "    }\n",
       "\n",
       "    .dataframe thead th {\n",
       "        text-align: right;\n",
       "    }\n",
       "</style>\n",
       "<table border=\"1\" class=\"dataframe\">\n",
       "  <thead>\n",
       "    <tr style=\"text-align: right;\">\n",
       "      <th></th>\n",
       "      <th>0</th>\n",
       "      <th>1</th>\n",
       "      <th>2</th>\n",
       "      <th>3</th>\n",
       "      <th>4</th>\n",
       "    </tr>\n",
       "  </thead>\n",
       "  <tbody>\n",
       "    <tr>\n",
       "      <th>0</th>\n",
       "      <td>53.1</td>\n",
       "      <td>95.0</td>\n",
       "      <td>67.5</td>\n",
       "      <td>35.0</td>\n",
       "      <td>78.4</td>\n",
       "    </tr>\n",
       "    <tr>\n",
       "      <th>1</th>\n",
       "      <td>61.3</td>\n",
       "      <td>40.8</td>\n",
       "      <td>30.8</td>\n",
       "      <td>37.8</td>\n",
       "      <td>87.6</td>\n",
       "    </tr>\n",
       "    <tr>\n",
       "      <th>2</th>\n",
       "      <td>20.6</td>\n",
       "      <td>73.2</td>\n",
       "      <td>44.2</td>\n",
       "      <td>14.6</td>\n",
       "      <td>91.8</td>\n",
       "    </tr>\n",
       "    <tr>\n",
       "      <th>3</th>\n",
       "      <td>57.4</td>\n",
       "      <td>10.1</td>\n",
       "      <td>96.1</td>\n",
       "      <td>4.2</td>\n",
       "      <td>69.5</td>\n",
       "    </tr>\n",
       "    <tr>\n",
       "      <th>4</th>\n",
       "      <td>83.6</td>\n",
       "      <td>20.5</td>\n",
       "      <td>85.4</td>\n",
       "      <td>22.8</td>\n",
       "      <td>35.9</td>\n",
       "    </tr>\n",
       "    <tr>\n",
       "      <th>5</th>\n",
       "      <td>49.0</td>\n",
       "      <td>69.0</td>\n",
       "      <td>0.1</td>\n",
       "      <td>31.8</td>\n",
       "      <td>89.1</td>\n",
       "    </tr>\n",
       "    <tr>\n",
       "      <th>6</th>\n",
       "      <td>23.3</td>\n",
       "      <td>40.7</td>\n",
       "      <td>95.0</td>\n",
       "      <td>83.8</td>\n",
       "      <td>26.9</td>\n",
       "    </tr>\n",
       "    <tr>\n",
       "      <th>7</th>\n",
       "      <td>27.6</td>\n",
       "      <td>26.4</td>\n",
       "      <td>53.8</td>\n",
       "      <td>88.8</td>\n",
       "      <td>68.5</td>\n",
       "    </tr>\n",
       "    <tr>\n",
       "      <th>8</th>\n",
       "      <td>96.6</td>\n",
       "      <td>96.4</td>\n",
       "      <td>53.4</td>\n",
       "      <td>72.4</td>\n",
       "      <td>50.1</td>\n",
       "    </tr>\n",
       "    <tr>\n",
       "      <th>9</th>\n",
       "      <td>73.7</td>\n",
       "      <td>39.0</td>\n",
       "      <td>43.2</td>\n",
       "      <td>81.6</td>\n",
       "      <td>34.7</td>\n",
       "    </tr>\n",
       "  </tbody>\n",
       "</table>\n",
       "</div>"
      ],
      "text/plain": [
       "      0     1     2     3     4\n",
       "0  53.1  95.0  67.5  35.0  78.4\n",
       "1  61.3  40.8  30.8  37.8  87.6\n",
       "2  20.6  73.2  44.2  14.6  91.8\n",
       "3  57.4  10.1  96.1   4.2  69.5\n",
       "4  83.6  20.5  85.4  22.8  35.9\n",
       "5  49.0  69.0   0.1  31.8  89.1\n",
       "6  23.3  40.7  95.0  83.8  26.9\n",
       "7  27.6  26.4  53.8  88.8  68.5\n",
       "8  96.6  96.4  53.4  72.4  50.1\n",
       "9  73.7  39.0  43.2  81.6  34.7"
      ]
     },
     "execution_count": 32,
     "metadata": {},
     "output_type": "execute_result"
    }
   ],
   "source": [
    "dfx"
   ]
  },
  {
   "cell_type": "markdown",
   "id": "0c937ef9",
   "metadata": {},
   "source": [
    "Set the 5 column names of `dfx` to each of the elements in the `col_names` variable below (respectively).\n",
    "\n",
    "Dan hasn't shown you how to do this, so why not search the internet for yourself? What would you search for?\n",
    "\n",
    "If you're struggling, take a look at this [Q&A](https://stackoverflow.com/questions/45468630/change-column-names-in-pandas-dataframe-from-a-list)"
   ]
  },
  {
   "cell_type": "code",
   "execution_count": 35,
   "id": "b4d0e665",
   "metadata": {},
   "outputs": [],
   "source": [
    "col_names = ['Test_A', 'Test_B', 'Test_C', 'Test_D', 'Test_E']"
   ]
  },
  {
   "cell_type": "code",
   "execution_count": 36,
   "id": "34b09964",
   "metadata": {},
   "outputs": [],
   "source": [
    "# your answer here"
   ]
  },
  {
   "cell_type": "code",
   "execution_count": 37,
   "id": "fa48ae29",
   "metadata": {},
   "outputs": [],
   "source": [
    "dfx.columns = col_names"
   ]
  },
  {
   "cell_type": "markdown",
   "id": "7e0a34a6",
   "metadata": {},
   "source": [
    "Display `dfx` with its shiny new column names"
   ]
  },
  {
   "cell_type": "code",
   "execution_count": 38,
   "id": "690e89f0",
   "metadata": {},
   "outputs": [],
   "source": [
    "# your answer here"
   ]
  },
  {
   "cell_type": "code",
   "execution_count": 39,
   "id": "e1b8eff6",
   "metadata": {},
   "outputs": [
    {
     "data": {
      "text/html": [
       "<div>\n",
       "<style scoped>\n",
       "    .dataframe tbody tr th:only-of-type {\n",
       "        vertical-align: middle;\n",
       "    }\n",
       "\n",
       "    .dataframe tbody tr th {\n",
       "        vertical-align: top;\n",
       "    }\n",
       "\n",
       "    .dataframe thead th {\n",
       "        text-align: right;\n",
       "    }\n",
       "</style>\n",
       "<table border=\"1\" class=\"dataframe\">\n",
       "  <thead>\n",
       "    <tr style=\"text-align: right;\">\n",
       "      <th></th>\n",
       "      <th>Test_A</th>\n",
       "      <th>Test_B</th>\n",
       "      <th>Test_C</th>\n",
       "      <th>Test_D</th>\n",
       "      <th>Test_E</th>\n",
       "    </tr>\n",
       "  </thead>\n",
       "  <tbody>\n",
       "    <tr>\n",
       "      <th>0</th>\n",
       "      <td>53.1</td>\n",
       "      <td>95.0</td>\n",
       "      <td>67.5</td>\n",
       "      <td>35.0</td>\n",
       "      <td>78.4</td>\n",
       "    </tr>\n",
       "    <tr>\n",
       "      <th>1</th>\n",
       "      <td>61.3</td>\n",
       "      <td>40.8</td>\n",
       "      <td>30.8</td>\n",
       "      <td>37.8</td>\n",
       "      <td>87.6</td>\n",
       "    </tr>\n",
       "    <tr>\n",
       "      <th>2</th>\n",
       "      <td>20.6</td>\n",
       "      <td>73.2</td>\n",
       "      <td>44.2</td>\n",
       "      <td>14.6</td>\n",
       "      <td>91.8</td>\n",
       "    </tr>\n",
       "    <tr>\n",
       "      <th>3</th>\n",
       "      <td>57.4</td>\n",
       "      <td>10.1</td>\n",
       "      <td>96.1</td>\n",
       "      <td>4.2</td>\n",
       "      <td>69.5</td>\n",
       "    </tr>\n",
       "    <tr>\n",
       "      <th>4</th>\n",
       "      <td>83.6</td>\n",
       "      <td>20.5</td>\n",
       "      <td>85.4</td>\n",
       "      <td>22.8</td>\n",
       "      <td>35.9</td>\n",
       "    </tr>\n",
       "    <tr>\n",
       "      <th>5</th>\n",
       "      <td>49.0</td>\n",
       "      <td>69.0</td>\n",
       "      <td>0.1</td>\n",
       "      <td>31.8</td>\n",
       "      <td>89.1</td>\n",
       "    </tr>\n",
       "    <tr>\n",
       "      <th>6</th>\n",
       "      <td>23.3</td>\n",
       "      <td>40.7</td>\n",
       "      <td>95.0</td>\n",
       "      <td>83.8</td>\n",
       "      <td>26.9</td>\n",
       "    </tr>\n",
       "    <tr>\n",
       "      <th>7</th>\n",
       "      <td>27.6</td>\n",
       "      <td>26.4</td>\n",
       "      <td>53.8</td>\n",
       "      <td>88.8</td>\n",
       "      <td>68.5</td>\n",
       "    </tr>\n",
       "    <tr>\n",
       "      <th>8</th>\n",
       "      <td>96.6</td>\n",
       "      <td>96.4</td>\n",
       "      <td>53.4</td>\n",
       "      <td>72.4</td>\n",
       "      <td>50.1</td>\n",
       "    </tr>\n",
       "    <tr>\n",
       "      <th>9</th>\n",
       "      <td>73.7</td>\n",
       "      <td>39.0</td>\n",
       "      <td>43.2</td>\n",
       "      <td>81.6</td>\n",
       "      <td>34.7</td>\n",
       "    </tr>\n",
       "  </tbody>\n",
       "</table>\n",
       "</div>"
      ],
      "text/plain": [
       "   Test_A  Test_B  Test_C  Test_D  Test_E\n",
       "0    53.1    95.0    67.5    35.0    78.4\n",
       "1    61.3    40.8    30.8    37.8    87.6\n",
       "2    20.6    73.2    44.2    14.6    91.8\n",
       "3    57.4    10.1    96.1     4.2    69.5\n",
       "4    83.6    20.5    85.4    22.8    35.9\n",
       "5    49.0    69.0     0.1    31.8    89.1\n",
       "6    23.3    40.7    95.0    83.8    26.9\n",
       "7    27.6    26.4    53.8    88.8    68.5\n",
       "8    96.6    96.4    53.4    72.4    50.1\n",
       "9    73.7    39.0    43.2    81.6    34.7"
      ]
     },
     "execution_count": 39,
     "metadata": {},
     "output_type": "execute_result"
    }
   ],
   "source": [
    "dfx"
   ]
  },
  {
   "cell_type": "markdown",
   "id": "d1bdce3d",
   "metadata": {},
   "source": [
    "Create a subset of the data frame containing only the Test B, D and E columns. Assing this to `dfx_ss`. Display this sub set data frame."
   ]
  },
  {
   "cell_type": "code",
   "execution_count": null,
   "id": "b42cca90",
   "metadata": {},
   "outputs": [],
   "source": [
    "# your answer here"
   ]
  },
  {
   "cell_type": "code",
   "execution_count": 40,
   "id": "646fda64",
   "metadata": {},
   "outputs": [
    {
     "data": {
      "text/html": [
       "<div>\n",
       "<style scoped>\n",
       "    .dataframe tbody tr th:only-of-type {\n",
       "        vertical-align: middle;\n",
       "    }\n",
       "\n",
       "    .dataframe tbody tr th {\n",
       "        vertical-align: top;\n",
       "    }\n",
       "\n",
       "    .dataframe thead th {\n",
       "        text-align: right;\n",
       "    }\n",
       "</style>\n",
       "<table border=\"1\" class=\"dataframe\">\n",
       "  <thead>\n",
       "    <tr style=\"text-align: right;\">\n",
       "      <th></th>\n",
       "      <th>Test_B</th>\n",
       "      <th>Test_D</th>\n",
       "      <th>Test_E</th>\n",
       "    </tr>\n",
       "  </thead>\n",
       "  <tbody>\n",
       "    <tr>\n",
       "      <th>0</th>\n",
       "      <td>95.0</td>\n",
       "      <td>35.0</td>\n",
       "      <td>78.4</td>\n",
       "    </tr>\n",
       "    <tr>\n",
       "      <th>1</th>\n",
       "      <td>40.8</td>\n",
       "      <td>37.8</td>\n",
       "      <td>87.6</td>\n",
       "    </tr>\n",
       "    <tr>\n",
       "      <th>2</th>\n",
       "      <td>73.2</td>\n",
       "      <td>14.6</td>\n",
       "      <td>91.8</td>\n",
       "    </tr>\n",
       "    <tr>\n",
       "      <th>3</th>\n",
       "      <td>10.1</td>\n",
       "      <td>4.2</td>\n",
       "      <td>69.5</td>\n",
       "    </tr>\n",
       "    <tr>\n",
       "      <th>4</th>\n",
       "      <td>20.5</td>\n",
       "      <td>22.8</td>\n",
       "      <td>35.9</td>\n",
       "    </tr>\n",
       "    <tr>\n",
       "      <th>5</th>\n",
       "      <td>69.0</td>\n",
       "      <td>31.8</td>\n",
       "      <td>89.1</td>\n",
       "    </tr>\n",
       "    <tr>\n",
       "      <th>6</th>\n",
       "      <td>40.7</td>\n",
       "      <td>83.8</td>\n",
       "      <td>26.9</td>\n",
       "    </tr>\n",
       "    <tr>\n",
       "      <th>7</th>\n",
       "      <td>26.4</td>\n",
       "      <td>88.8</td>\n",
       "      <td>68.5</td>\n",
       "    </tr>\n",
       "    <tr>\n",
       "      <th>8</th>\n",
       "      <td>96.4</td>\n",
       "      <td>72.4</td>\n",
       "      <td>50.1</td>\n",
       "    </tr>\n",
       "    <tr>\n",
       "      <th>9</th>\n",
       "      <td>39.0</td>\n",
       "      <td>81.6</td>\n",
       "      <td>34.7</td>\n",
       "    </tr>\n",
       "  </tbody>\n",
       "</table>\n",
       "</div>"
      ],
      "text/plain": [
       "   Test_B  Test_D  Test_E\n",
       "0    95.0    35.0    78.4\n",
       "1    40.8    37.8    87.6\n",
       "2    73.2    14.6    91.8\n",
       "3    10.1     4.2    69.5\n",
       "4    20.5    22.8    35.9\n",
       "5    69.0    31.8    89.1\n",
       "6    40.7    83.8    26.9\n",
       "7    26.4    88.8    68.5\n",
       "8    96.4    72.4    50.1\n",
       "9    39.0    81.6    34.7"
      ]
     },
     "execution_count": 40,
     "metadata": {},
     "output_type": "execute_result"
    }
   ],
   "source": [
    "dfx_ss = dfx[['Test_B', 'Test_D', 'Test_E']]\n",
    "dfx_ss"
   ]
  },
  {
   "cell_type": "markdown",
   "id": "133a368d",
   "metadata": {},
   "source": [
    "Using the original data frame `dfx` calculate the *[average](https://pandas.pydata.org/docs/reference/api/pandas.DataFrame.mean.html)* score of *Test E*."
   ]
  },
  {
   "cell_type": "code",
   "execution_count": null,
   "id": "29b4851c",
   "metadata": {},
   "outputs": [],
   "source": [
    "# your answer here"
   ]
  },
  {
   "cell_type": "code",
   "execution_count": 41,
   "id": "f12c2eaf",
   "metadata": {},
   "outputs": [
    {
     "data": {
      "text/plain": [
       "63.25"
      ]
     },
     "execution_count": 41,
     "metadata": {},
     "output_type": "execute_result"
    }
   ],
   "source": [
    "dfx['Test_E'].mean()"
   ]
  },
  {
   "cell_type": "markdown",
   "id": "20d775d3",
   "metadata": {},
   "source": [
    "Using the original data frame `dfx` calculate the *[maximum](https://pandas.pydata.org/docs/reference/api/pandas.DataFrame.max.html)* score of *Test A*."
   ]
  },
  {
   "cell_type": "code",
   "execution_count": null,
   "id": "5f624645",
   "metadata": {},
   "outputs": [],
   "source": [
    "# your answer here"
   ]
  },
  {
   "cell_type": "code",
   "execution_count": 42,
   "id": "436632bd",
   "metadata": {},
   "outputs": [
    {
     "data": {
      "text/plain": [
       "96.6"
      ]
     },
     "execution_count": 42,
     "metadata": {},
     "output_type": "execute_result"
    }
   ],
   "source": [
    "dfx['Test_A'].max()"
   ]
  },
  {
   "cell_type": "markdown",
   "id": "67e34338",
   "metadata": {},
   "source": [
    "Using the original data frame `dfx` calculate the *[median](https://pandas.pydata.org/docs/reference/api/pandas.DataFrame.median.html)* score of *Test B*."
   ]
  },
  {
   "cell_type": "code",
   "execution_count": null,
   "id": "c72f5995",
   "metadata": {},
   "outputs": [],
   "source": [
    "# your answer here"
   ]
  },
  {
   "cell_type": "code",
   "execution_count": 43,
   "id": "24992655",
   "metadata": {},
   "outputs": [
    {
     "data": {
      "text/plain": [
       "40.75"
      ]
     },
     "execution_count": 43,
     "metadata": {},
     "output_type": "execute_result"
    }
   ],
   "source": [
    "dfx['Test_B'].median()"
   ]
  },
  {
   "cell_type": "markdown",
   "id": "de9b6490",
   "metadata": {},
   "source": [
    "Convert `inventory` into a Pandas DataFrame called `dfinv` then display it"
   ]
  },
  {
   "cell_type": "code",
   "execution_count": 44,
   "id": "5c2dfd6b",
   "metadata": {},
   "outputs": [],
   "source": [
    "inventory = {'Description': ['LUNCH BAG APPLE DESIGN',\n",
    "                             'SET OF 60 VINTAGE LEAF CAKE CASES ',\n",
    "                             'RIBBON REEL STRIPES DESIGN ',\n",
    "                             'WORLD WAR 2 GLIDERS ASSTD DESIGNS',\n",
    "                             'PLAYING CARDS JUBILEE UNION JACK',\n",
    "                             'POPCORN HOLDER',\n",
    "                             'BOX OF VINTAGE ALPHABET BLOCKS',\n",
    "                             'PARTY BUNTING',\n",
    "                             'JAZZ HEARTS ADDRESS BOOK',\n",
    "                             'SET OF 4 SANTA PLACE SETTINGS'],\n",
    "             'Quantity': [1, 24, 1, 2880, 2, 7, 1, 4, 10, 48],\n",
    "             'UnitPrice': [1.65, 0.55, 1.65, 0.18, 1.25, 0.85, 11.95, 4.95, 0.19, 1.25],\n",
    "             'TotalValue': [1.65, 13.2, 1.65, 518.4, 2.5, 5.95, 11.95, 19.8, 1.9, 60.0]}"
   ]
  },
  {
   "cell_type": "code",
   "execution_count": 45,
   "id": "50d0bc05",
   "metadata": {
    "scrolled": true
   },
   "outputs": [
    {
     "data": {
      "text/plain": [
       "{'Description': ['LUNCH BAG APPLE DESIGN',\n",
       "  'SET OF 60 VINTAGE LEAF CAKE CASES ',\n",
       "  'RIBBON REEL STRIPES DESIGN ',\n",
       "  'WORLD WAR 2 GLIDERS ASSTD DESIGNS',\n",
       "  'PLAYING CARDS JUBILEE UNION JACK',\n",
       "  'POPCORN HOLDER',\n",
       "  'BOX OF VINTAGE ALPHABET BLOCKS',\n",
       "  'PARTY BUNTING',\n",
       "  'JAZZ HEARTS ADDRESS BOOK',\n",
       "  'SET OF 4 SANTA PLACE SETTINGS'],\n",
       " 'Quantity': [1, 24, 1, 2880, 2, 7, 1, 4, 10, 48],\n",
       " 'UnitPrice': [1.65, 0.55, 1.65, 0.18, 1.25, 0.85, 11.95, 4.95, 0.19, 1.25],\n",
       " 'TotalValue': [1.65, 13.2, 1.65, 518.4, 2.5, 5.95, 11.95, 19.8, 1.9, 60.0]}"
      ]
     },
     "execution_count": 45,
     "metadata": {},
     "output_type": "execute_result"
    }
   ],
   "source": [
    "inventory"
   ]
  },
  {
   "cell_type": "code",
   "execution_count": 46,
   "id": "fc7721cd",
   "metadata": {},
   "outputs": [
    {
     "data": {
      "text/plain": [
       "dict"
      ]
     },
     "execution_count": 46,
     "metadata": {},
     "output_type": "execute_result"
    }
   ],
   "source": [
    "type(inventory)"
   ]
  },
  {
   "cell_type": "code",
   "execution_count": null,
   "id": "0dce76e3",
   "metadata": {},
   "outputs": [],
   "source": [
    "# your answer here"
   ]
  },
  {
   "cell_type": "code",
   "execution_count": 47,
   "id": "7e7f18dc",
   "metadata": {},
   "outputs": [
    {
     "data": {
      "text/html": [
       "<div>\n",
       "<style scoped>\n",
       "    .dataframe tbody tr th:only-of-type {\n",
       "        vertical-align: middle;\n",
       "    }\n",
       "\n",
       "    .dataframe tbody tr th {\n",
       "        vertical-align: top;\n",
       "    }\n",
       "\n",
       "    .dataframe thead th {\n",
       "        text-align: right;\n",
       "    }\n",
       "</style>\n",
       "<table border=\"1\" class=\"dataframe\">\n",
       "  <thead>\n",
       "    <tr style=\"text-align: right;\">\n",
       "      <th></th>\n",
       "      <th>Description</th>\n",
       "      <th>Quantity</th>\n",
       "      <th>UnitPrice</th>\n",
       "      <th>TotalValue</th>\n",
       "    </tr>\n",
       "  </thead>\n",
       "  <tbody>\n",
       "    <tr>\n",
       "      <th>0</th>\n",
       "      <td>LUNCH BAG APPLE DESIGN</td>\n",
       "      <td>1</td>\n",
       "      <td>1.65</td>\n",
       "      <td>1.65</td>\n",
       "    </tr>\n",
       "    <tr>\n",
       "      <th>1</th>\n",
       "      <td>SET OF 60 VINTAGE LEAF CAKE CASES</td>\n",
       "      <td>24</td>\n",
       "      <td>0.55</td>\n",
       "      <td>13.20</td>\n",
       "    </tr>\n",
       "    <tr>\n",
       "      <th>2</th>\n",
       "      <td>RIBBON REEL STRIPES DESIGN</td>\n",
       "      <td>1</td>\n",
       "      <td>1.65</td>\n",
       "      <td>1.65</td>\n",
       "    </tr>\n",
       "    <tr>\n",
       "      <th>3</th>\n",
       "      <td>WORLD WAR 2 GLIDERS ASSTD DESIGNS</td>\n",
       "      <td>2880</td>\n",
       "      <td>0.18</td>\n",
       "      <td>518.40</td>\n",
       "    </tr>\n",
       "    <tr>\n",
       "      <th>4</th>\n",
       "      <td>PLAYING CARDS JUBILEE UNION JACK</td>\n",
       "      <td>2</td>\n",
       "      <td>1.25</td>\n",
       "      <td>2.50</td>\n",
       "    </tr>\n",
       "    <tr>\n",
       "      <th>5</th>\n",
       "      <td>POPCORN HOLDER</td>\n",
       "      <td>7</td>\n",
       "      <td>0.85</td>\n",
       "      <td>5.95</td>\n",
       "    </tr>\n",
       "    <tr>\n",
       "      <th>6</th>\n",
       "      <td>BOX OF VINTAGE ALPHABET BLOCKS</td>\n",
       "      <td>1</td>\n",
       "      <td>11.95</td>\n",
       "      <td>11.95</td>\n",
       "    </tr>\n",
       "    <tr>\n",
       "      <th>7</th>\n",
       "      <td>PARTY BUNTING</td>\n",
       "      <td>4</td>\n",
       "      <td>4.95</td>\n",
       "      <td>19.80</td>\n",
       "    </tr>\n",
       "    <tr>\n",
       "      <th>8</th>\n",
       "      <td>JAZZ HEARTS ADDRESS BOOK</td>\n",
       "      <td>10</td>\n",
       "      <td>0.19</td>\n",
       "      <td>1.90</td>\n",
       "    </tr>\n",
       "    <tr>\n",
       "      <th>9</th>\n",
       "      <td>SET OF 4 SANTA PLACE SETTINGS</td>\n",
       "      <td>48</td>\n",
       "      <td>1.25</td>\n",
       "      <td>60.00</td>\n",
       "    </tr>\n",
       "  </tbody>\n",
       "</table>\n",
       "</div>"
      ],
      "text/plain": [
       "                          Description  Quantity  UnitPrice  TotalValue\n",
       "0              LUNCH BAG APPLE DESIGN         1       1.65        1.65\n",
       "1  SET OF 60 VINTAGE LEAF CAKE CASES         24       0.55       13.20\n",
       "2         RIBBON REEL STRIPES DESIGN          1       1.65        1.65\n",
       "3   WORLD WAR 2 GLIDERS ASSTD DESIGNS      2880       0.18      518.40\n",
       "4    PLAYING CARDS JUBILEE UNION JACK         2       1.25        2.50\n",
       "5                      POPCORN HOLDER         7       0.85        5.95\n",
       "6      BOX OF VINTAGE ALPHABET BLOCKS         1      11.95       11.95\n",
       "7                       PARTY BUNTING         4       4.95       19.80\n",
       "8            JAZZ HEARTS ADDRESS BOOK        10       0.19        1.90\n",
       "9       SET OF 4 SANTA PLACE SETTINGS        48       1.25       60.00"
      ]
     },
     "execution_count": 47,
     "metadata": {},
     "output_type": "execute_result"
    }
   ],
   "source": [
    "dfinv = pd.DataFrame(inventory)\n",
    "dfinv"
   ]
  },
  {
   "cell_type": "markdown",
   "id": "6e854b69",
   "metadata": {},
   "source": [
    "What is the total value of all the inventory above?"
   ]
  },
  {
   "cell_type": "code",
   "execution_count": null,
   "id": "92571478",
   "metadata": {},
   "outputs": [],
   "source": [
    "# your answer here"
   ]
  },
  {
   "cell_type": "code",
   "execution_count": 48,
   "id": "4f830eb6",
   "metadata": {},
   "outputs": [
    {
     "data": {
      "text/plain": [
       "637.0"
      ]
     },
     "execution_count": 48,
     "metadata": {},
     "output_type": "execute_result"
    }
   ],
   "source": [
    "dfinv['TotalValue'].sum()"
   ]
  },
  {
   "cell_type": "markdown",
   "id": "328b9dfc",
   "metadata": {},
   "source": [
    "What is the value of the most expensive item in the inventory?"
   ]
  },
  {
   "cell_type": "code",
   "execution_count": null,
   "id": "945f20b4",
   "metadata": {},
   "outputs": [],
   "source": [
    "# your answer here"
   ]
  },
  {
   "cell_type": "code",
   "execution_count": 49,
   "id": "95bd4556",
   "metadata": {},
   "outputs": [
    {
     "data": {
      "text/plain": [
       "11.95"
      ]
     },
     "execution_count": 49,
     "metadata": {},
     "output_type": "execute_result"
    }
   ],
   "source": [
    "dfinv['UnitPrice'].max()"
   ]
  },
  {
   "cell_type": "markdown",
   "id": "046f9498",
   "metadata": {},
   "source": [
    "What is the value of the least expensive item in the inventory?"
   ]
  },
  {
   "cell_type": "code",
   "execution_count": null,
   "id": "da865821",
   "metadata": {},
   "outputs": [],
   "source": [
    "# your answer here"
   ]
  },
  {
   "cell_type": "code",
   "execution_count": 50,
   "id": "a0cf3aaf",
   "metadata": {},
   "outputs": [
    {
     "data": {
      "text/plain": [
       "0.18"
      ]
     },
     "execution_count": 50,
     "metadata": {},
     "output_type": "execute_result"
    }
   ],
   "source": [
    "dfinv['UnitPrice'].min()"
   ]
  },
  {
   "cell_type": "code",
   "execution_count": 51,
   "id": "470519a4",
   "metadata": {},
   "outputs": [
    {
     "data": {
      "text/html": [
       "<div>\n",
       "<style scoped>\n",
       "    .dataframe tbody tr th:only-of-type {\n",
       "        vertical-align: middle;\n",
       "    }\n",
       "\n",
       "    .dataframe tbody tr th {\n",
       "        vertical-align: top;\n",
       "    }\n",
       "\n",
       "    .dataframe thead th {\n",
       "        text-align: right;\n",
       "    }\n",
       "</style>\n",
       "<table border=\"1\" class=\"dataframe\">\n",
       "  <thead>\n",
       "    <tr style=\"text-align: right;\">\n",
       "      <th></th>\n",
       "      <th>Description</th>\n",
       "      <th>Quantity</th>\n",
       "      <th>UnitPrice</th>\n",
       "    </tr>\n",
       "  </thead>\n",
       "  <tbody>\n",
       "    <tr>\n",
       "      <th>0</th>\n",
       "      <td>LUNCH BAG APPLE DESIGN</td>\n",
       "      <td>1</td>\n",
       "      <td>1.65</td>\n",
       "    </tr>\n",
       "    <tr>\n",
       "      <th>1</th>\n",
       "      <td>SET OF 60 VINTAGE LEAF CAKE CASES</td>\n",
       "      <td>24</td>\n",
       "      <td>0.55</td>\n",
       "    </tr>\n",
       "    <tr>\n",
       "      <th>2</th>\n",
       "      <td>RIBBON REEL STRIPES DESIGN</td>\n",
       "      <td>1</td>\n",
       "      <td>1.65</td>\n",
       "    </tr>\n",
       "    <tr>\n",
       "      <th>3</th>\n",
       "      <td>WORLD WAR 2 GLIDERS ASSTD DESIGNS</td>\n",
       "      <td>2880</td>\n",
       "      <td>0.18</td>\n",
       "    </tr>\n",
       "    <tr>\n",
       "      <th>4</th>\n",
       "      <td>PLAYING CARDS JUBILEE UNION JACK</td>\n",
       "      <td>2</td>\n",
       "      <td>1.25</td>\n",
       "    </tr>\n",
       "    <tr>\n",
       "      <th>5</th>\n",
       "      <td>POPCORN HOLDER</td>\n",
       "      <td>7</td>\n",
       "      <td>0.85</td>\n",
       "    </tr>\n",
       "    <tr>\n",
       "      <th>6</th>\n",
       "      <td>BOX OF VINTAGE ALPHABET BLOCKS</td>\n",
       "      <td>1</td>\n",
       "      <td>11.95</td>\n",
       "    </tr>\n",
       "    <tr>\n",
       "      <th>7</th>\n",
       "      <td>PARTY BUNTING</td>\n",
       "      <td>4</td>\n",
       "      <td>4.95</td>\n",
       "    </tr>\n",
       "    <tr>\n",
       "      <th>8</th>\n",
       "      <td>JAZZ HEARTS ADDRESS BOOK</td>\n",
       "      <td>10</td>\n",
       "      <td>0.19</td>\n",
       "    </tr>\n",
       "    <tr>\n",
       "      <th>9</th>\n",
       "      <td>SET OF 4 SANTA PLACE SETTINGS</td>\n",
       "      <td>48</td>\n",
       "      <td>1.25</td>\n",
       "    </tr>\n",
       "  </tbody>\n",
       "</table>\n",
       "</div>"
      ],
      "text/plain": [
       "                          Description  Quantity  UnitPrice\n",
       "0              LUNCH BAG APPLE DESIGN         1       1.65\n",
       "1  SET OF 60 VINTAGE LEAF CAKE CASES         24       0.55\n",
       "2         RIBBON REEL STRIPES DESIGN          1       1.65\n",
       "3   WORLD WAR 2 GLIDERS ASSTD DESIGNS      2880       0.18\n",
       "4    PLAYING CARDS JUBILEE UNION JACK         2       1.25\n",
       "5                      POPCORN HOLDER         7       0.85\n",
       "6      BOX OF VINTAGE ALPHABET BLOCKS         1      11.95\n",
       "7                       PARTY BUNTING         4       4.95\n",
       "8            JAZZ HEARTS ADDRESS BOOK        10       0.19\n",
       "9       SET OF 4 SANTA PLACE SETTINGS        48       1.25"
      ]
     },
     "execution_count": 51,
     "metadata": {},
     "output_type": "execute_result"
    }
   ],
   "source": [
    "inventory2 = {'Description': ['LUNCH BAG APPLE DESIGN',\n",
    "                             'SET OF 60 VINTAGE LEAF CAKE CASES ',\n",
    "                             'RIBBON REEL STRIPES DESIGN ',\n",
    "                             'WORLD WAR 2 GLIDERS ASSTD DESIGNS',\n",
    "                             'PLAYING CARDS JUBILEE UNION JACK',\n",
    "                             'POPCORN HOLDER',\n",
    "                             'BOX OF VINTAGE ALPHABET BLOCKS',\n",
    "                             'PARTY BUNTING',\n",
    "                             'JAZZ HEARTS ADDRESS BOOK',\n",
    "                             'SET OF 4 SANTA PLACE SETTINGS'],\n",
    "             'Quantity': [1, 24, 1, 2880, 2, 7, 1, 4, 10, 48],\n",
    "             'UnitPrice': [1.65, 0.55, 1.65, 0.18, 1.25, 0.85, 11.95, 4.95, 0.19, 1.25]}\n",
    "\n",
    "df_inv2 = pd.DataFrame(inventory2)\n",
    "df_inv2"
   ]
  },
  {
   "cell_type": "code",
   "execution_count": 52,
   "id": "df7310a2",
   "metadata": {},
   "outputs": [],
   "source": [
    "df_inv2['Total_Value_Wed_PM'] = df_inv2['Quantity'] * df_inv2['UnitPrice']"
   ]
  },
  {
   "cell_type": "code",
   "execution_count": 53,
   "id": "038b40e0",
   "metadata": {},
   "outputs": [
    {
     "data": {
      "text/html": [
       "<div>\n",
       "<style scoped>\n",
       "    .dataframe tbody tr th:only-of-type {\n",
       "        vertical-align: middle;\n",
       "    }\n",
       "\n",
       "    .dataframe tbody tr th {\n",
       "        vertical-align: top;\n",
       "    }\n",
       "\n",
       "    .dataframe thead th {\n",
       "        text-align: right;\n",
       "    }\n",
       "</style>\n",
       "<table border=\"1\" class=\"dataframe\">\n",
       "  <thead>\n",
       "    <tr style=\"text-align: right;\">\n",
       "      <th></th>\n",
       "      <th>Description</th>\n",
       "      <th>Quantity</th>\n",
       "      <th>UnitPrice</th>\n",
       "      <th>Total_Value_Wed_PM</th>\n",
       "    </tr>\n",
       "  </thead>\n",
       "  <tbody>\n",
       "    <tr>\n",
       "      <th>0</th>\n",
       "      <td>LUNCH BAG APPLE DESIGN</td>\n",
       "      <td>1</td>\n",
       "      <td>1.65</td>\n",
       "      <td>1.65</td>\n",
       "    </tr>\n",
       "    <tr>\n",
       "      <th>1</th>\n",
       "      <td>SET OF 60 VINTAGE LEAF CAKE CASES</td>\n",
       "      <td>24</td>\n",
       "      <td>0.55</td>\n",
       "      <td>13.20</td>\n",
       "    </tr>\n",
       "    <tr>\n",
       "      <th>2</th>\n",
       "      <td>RIBBON REEL STRIPES DESIGN</td>\n",
       "      <td>1</td>\n",
       "      <td>1.65</td>\n",
       "      <td>1.65</td>\n",
       "    </tr>\n",
       "    <tr>\n",
       "      <th>3</th>\n",
       "      <td>WORLD WAR 2 GLIDERS ASSTD DESIGNS</td>\n",
       "      <td>2880</td>\n",
       "      <td>0.18</td>\n",
       "      <td>518.40</td>\n",
       "    </tr>\n",
       "    <tr>\n",
       "      <th>4</th>\n",
       "      <td>PLAYING CARDS JUBILEE UNION JACK</td>\n",
       "      <td>2</td>\n",
       "      <td>1.25</td>\n",
       "      <td>2.50</td>\n",
       "    </tr>\n",
       "    <tr>\n",
       "      <th>5</th>\n",
       "      <td>POPCORN HOLDER</td>\n",
       "      <td>7</td>\n",
       "      <td>0.85</td>\n",
       "      <td>5.95</td>\n",
       "    </tr>\n",
       "    <tr>\n",
       "      <th>6</th>\n",
       "      <td>BOX OF VINTAGE ALPHABET BLOCKS</td>\n",
       "      <td>1</td>\n",
       "      <td>11.95</td>\n",
       "      <td>11.95</td>\n",
       "    </tr>\n",
       "    <tr>\n",
       "      <th>7</th>\n",
       "      <td>PARTY BUNTING</td>\n",
       "      <td>4</td>\n",
       "      <td>4.95</td>\n",
       "      <td>19.80</td>\n",
       "    </tr>\n",
       "    <tr>\n",
       "      <th>8</th>\n",
       "      <td>JAZZ HEARTS ADDRESS BOOK</td>\n",
       "      <td>10</td>\n",
       "      <td>0.19</td>\n",
       "      <td>1.90</td>\n",
       "    </tr>\n",
       "    <tr>\n",
       "      <th>9</th>\n",
       "      <td>SET OF 4 SANTA PLACE SETTINGS</td>\n",
       "      <td>48</td>\n",
       "      <td>1.25</td>\n",
       "      <td>60.00</td>\n",
       "    </tr>\n",
       "  </tbody>\n",
       "</table>\n",
       "</div>"
      ],
      "text/plain": [
       "                          Description  Quantity  UnitPrice  Total_Value_Wed_PM\n",
       "0              LUNCH BAG APPLE DESIGN         1       1.65                1.65\n",
       "1  SET OF 60 VINTAGE LEAF CAKE CASES         24       0.55               13.20\n",
       "2         RIBBON REEL STRIPES DESIGN          1       1.65                1.65\n",
       "3   WORLD WAR 2 GLIDERS ASSTD DESIGNS      2880       0.18              518.40\n",
       "4    PLAYING CARDS JUBILEE UNION JACK         2       1.25                2.50\n",
       "5                      POPCORN HOLDER         7       0.85                5.95\n",
       "6      BOX OF VINTAGE ALPHABET BLOCKS         1      11.95               11.95\n",
       "7                       PARTY BUNTING         4       4.95               19.80\n",
       "8            JAZZ HEARTS ADDRESS BOOK        10       0.19                1.90\n",
       "9       SET OF 4 SANTA PLACE SETTINGS        48       1.25               60.00"
      ]
     },
     "execution_count": 53,
     "metadata": {},
     "output_type": "execute_result"
    }
   ],
   "source": [
    "df_inv2"
   ]
  },
  {
   "cell_type": "code",
   "execution_count": 54,
   "id": "ae16f877",
   "metadata": {},
   "outputs": [
    {
     "data": {
      "text/html": [
       "<div>\n",
       "<style scoped>\n",
       "    .dataframe tbody tr th:only-of-type {\n",
       "        vertical-align: middle;\n",
       "    }\n",
       "\n",
       "    .dataframe tbody tr th {\n",
       "        vertical-align: top;\n",
       "    }\n",
       "\n",
       "    .dataframe thead th {\n",
       "        text-align: right;\n",
       "    }\n",
       "</style>\n",
       "<table border=\"1\" class=\"dataframe\">\n",
       "  <thead>\n",
       "    <tr style=\"text-align: right;\">\n",
       "      <th></th>\n",
       "      <th>Description</th>\n",
       "      <th>Quantity</th>\n",
       "      <th>UnitPrice</th>\n",
       "      <th>Total_Value_Wed_PM</th>\n",
       "      <th>Total_Value_Wed_PM_inc_VAT</th>\n",
       "    </tr>\n",
       "  </thead>\n",
       "  <tbody>\n",
       "    <tr>\n",
       "      <th>0</th>\n",
       "      <td>LUNCH BAG APPLE DESIGN</td>\n",
       "      <td>1</td>\n",
       "      <td>1.65</td>\n",
       "      <td>1.65</td>\n",
       "      <td>1.98</td>\n",
       "    </tr>\n",
       "    <tr>\n",
       "      <th>1</th>\n",
       "      <td>SET OF 60 VINTAGE LEAF CAKE CASES</td>\n",
       "      <td>24</td>\n",
       "      <td>0.55</td>\n",
       "      <td>13.20</td>\n",
       "      <td>15.84</td>\n",
       "    </tr>\n",
       "    <tr>\n",
       "      <th>2</th>\n",
       "      <td>RIBBON REEL STRIPES DESIGN</td>\n",
       "      <td>1</td>\n",
       "      <td>1.65</td>\n",
       "      <td>1.65</td>\n",
       "      <td>1.98</td>\n",
       "    </tr>\n",
       "    <tr>\n",
       "      <th>3</th>\n",
       "      <td>WORLD WAR 2 GLIDERS ASSTD DESIGNS</td>\n",
       "      <td>2880</td>\n",
       "      <td>0.18</td>\n",
       "      <td>518.40</td>\n",
       "      <td>622.08</td>\n",
       "    </tr>\n",
       "    <tr>\n",
       "      <th>4</th>\n",
       "      <td>PLAYING CARDS JUBILEE UNION JACK</td>\n",
       "      <td>2</td>\n",
       "      <td>1.25</td>\n",
       "      <td>2.50</td>\n",
       "      <td>3.00</td>\n",
       "    </tr>\n",
       "    <tr>\n",
       "      <th>5</th>\n",
       "      <td>POPCORN HOLDER</td>\n",
       "      <td>7</td>\n",
       "      <td>0.85</td>\n",
       "      <td>5.95</td>\n",
       "      <td>7.14</td>\n",
       "    </tr>\n",
       "    <tr>\n",
       "      <th>6</th>\n",
       "      <td>BOX OF VINTAGE ALPHABET BLOCKS</td>\n",
       "      <td>1</td>\n",
       "      <td>11.95</td>\n",
       "      <td>11.95</td>\n",
       "      <td>14.34</td>\n",
       "    </tr>\n",
       "    <tr>\n",
       "      <th>7</th>\n",
       "      <td>PARTY BUNTING</td>\n",
       "      <td>4</td>\n",
       "      <td>4.95</td>\n",
       "      <td>19.80</td>\n",
       "      <td>23.76</td>\n",
       "    </tr>\n",
       "    <tr>\n",
       "      <th>8</th>\n",
       "      <td>JAZZ HEARTS ADDRESS BOOK</td>\n",
       "      <td>10</td>\n",
       "      <td>0.19</td>\n",
       "      <td>1.90</td>\n",
       "      <td>2.28</td>\n",
       "    </tr>\n",
       "    <tr>\n",
       "      <th>9</th>\n",
       "      <td>SET OF 4 SANTA PLACE SETTINGS</td>\n",
       "      <td>48</td>\n",
       "      <td>1.25</td>\n",
       "      <td>60.00</td>\n",
       "      <td>72.00</td>\n",
       "    </tr>\n",
       "  </tbody>\n",
       "</table>\n",
       "</div>"
      ],
      "text/plain": [
       "                          Description  Quantity  UnitPrice  \\\n",
       "0              LUNCH BAG APPLE DESIGN         1       1.65   \n",
       "1  SET OF 60 VINTAGE LEAF CAKE CASES         24       0.55   \n",
       "2         RIBBON REEL STRIPES DESIGN          1       1.65   \n",
       "3   WORLD WAR 2 GLIDERS ASSTD DESIGNS      2880       0.18   \n",
       "4    PLAYING CARDS JUBILEE UNION JACK         2       1.25   \n",
       "5                      POPCORN HOLDER         7       0.85   \n",
       "6      BOX OF VINTAGE ALPHABET BLOCKS         1      11.95   \n",
       "7                       PARTY BUNTING         4       4.95   \n",
       "8            JAZZ HEARTS ADDRESS BOOK        10       0.19   \n",
       "9       SET OF 4 SANTA PLACE SETTINGS        48       1.25   \n",
       "\n",
       "   Total_Value_Wed_PM  Total_Value_Wed_PM_inc_VAT  \n",
       "0                1.65                        1.98  \n",
       "1               13.20                       15.84  \n",
       "2                1.65                        1.98  \n",
       "3              518.40                      622.08  \n",
       "4                2.50                        3.00  \n",
       "5                5.95                        7.14  \n",
       "6               11.95                       14.34  \n",
       "7               19.80                       23.76  \n",
       "8                1.90                        2.28  \n",
       "9               60.00                       72.00  "
      ]
     },
     "execution_count": 54,
     "metadata": {},
     "output_type": "execute_result"
    }
   ],
   "source": [
    "df_inv2['Total_Value_Wed_PM_inc_VAT'] = df_inv2['Total_Value_Wed_PM'] * 1.2\n",
    "df_inv2"
   ]
  },
  {
   "cell_type": "code",
   "execution_count": null,
   "id": "fe367828",
   "metadata": {},
   "outputs": [],
   "source": []
  },
  {
   "cell_type": "code",
   "execution_count": null,
   "id": "b00ec5c2",
   "metadata": {},
   "outputs": [],
   "source": []
  },
  {
   "cell_type": "markdown",
   "id": "3f11d63e",
   "metadata": {},
   "source": [
    "The end."
   ]
  }
 ],
 "metadata": {
  "kernelspec": {
   "display_name": "Python 3 (ipykernel)",
   "language": "python",
   "name": "python3"
  },
  "language_info": {
   "codemirror_mode": {
    "name": "ipython",
    "version": 3
   },
   "file_extension": ".py",
   "mimetype": "text/x-python",
   "name": "python",
   "nbconvert_exporter": "python",
   "pygments_lexer": "ipython3",
   "version": "3.9.12"
  }
 },
 "nbformat": 4,
 "nbformat_minor": 5
}

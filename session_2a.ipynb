{
 "cells": [
  {
   "cell_type": "code",
   "execution_count": null,
   "id": "9cbea98e",
   "metadata": {},
   "outputs": [],
   "source": [
    "# Where to libraries live?\n",
    "\n",
    "import random# as rdn_"
   ]
  },
  {
   "cell_type": "code",
   "execution_count": null,
   "id": "dbfc94de",
   "metadata": {},
   "outputs": [],
   "source": [
    "random.__file__"
   ]
  },
  {
   "cell_type": "code",
   "execution_count": null,
   "id": "b08e1337",
   "metadata": {},
   "outputs": [],
   "source": [
    "rdn_.__file__"
   ]
  },
  {
   "cell_type": "code",
   "execution_count": null,
   "id": "c608cd96",
   "metadata": {},
   "outputs": [],
   "source": [
    "# Lets take a look in any text editor (or Spyder)"
   ]
  },
  {
   "cell_type": "code",
   "execution_count": null,
   "id": "eda0b534",
   "metadata": {},
   "outputs": [],
   "source": [
    "# def randint\n",
    "\n",
    "random.randint(2, 10)"
   ]
  },
  {
   "cell_type": "code",
   "execution_count": null,
   "id": "d52153f5",
   "metadata": {},
   "outputs": [],
   "source": [
    "# def randrange"
   ]
  },
  {
   "cell_type": "code",
   "execution_count": null,
   "id": "ac647e45",
   "metadata": {
    "scrolled": true
   },
   "outputs": [],
   "source": [
    "help(random)"
   ]
  },
  {
   "cell_type": "markdown",
   "id": "944165f0",
   "metadata": {},
   "source": [
    "When I was 4 years old, I wrote my very first program in BASIC on my Atari 800XL.  In it, the computer randomly picked a whole number between 1 and 100, and the user had 10 chances to guess the number.  Every time the user guessed a number, they would be told either that the number was “too low”, “too high” or “correct”.  If the user used up all 10 chances without guessing correctly, they were told “you lose” and the game would end.\n",
    "\n",
    "You now have been taught enough to write this program in Python.\n",
    "\n",
    "You should write the game above (I’d advise using Spyder) along with the following extra features that 4-year old Dan didn’t implement :\n",
    "\n",
    "- a score, which starts at 1000 and which reduces by 100 for every unsuccessful guess, and which is displayed if the user wins\n",
    "- the user’s guesses are stored in a list and printed once the game is over\n",
    "- the game asks if the player wants to play again after every game ends\n",
    "- after each game, the player’s score is checked against the current high-score (default is 0) and if the last score is higher than the recorded high score then this replaces the high score.\n",
    "\n",
    "If you do all that with time to spare, add some bells and whistles of your choosing!\n",
    "\n",
    "You have 45 minutes (+10 minute break), and you should work as a group."
   ]
  },
  {
   "cell_type": "code",
   "execution_count": 4,
   "id": "a9367c5b",
   "metadata": {},
   "outputs": [
    {
     "name": "stdout",
     "output_type": "stream",
     "text": [
      "Please enter your guess (1-100 inc): 1\n",
      "Too low\n",
      "Please enter your guess (1-100 inc): 99\n",
      "Too high\n",
      "Please enter your guess (1-100 inc): 50\n",
      "Too low\n",
      "Please enter your guess (1-100 inc): 78\n",
      "Too low\n",
      "Please enter your guess (1-100 inc): 54\n",
      "Too low\n",
      "Please enter your guess (1-100 inc): 15\n",
      "Too low\n",
      "Please enter your guess (1-100 inc): 20\n",
      "Too low\n",
      "Please enter your guess (1-100 inc): 10\n",
      "Too low\n",
      "Please enter your guess (1-100 inc): 10\n",
      "Too low\n",
      "Please enter your guess (1-100 inc): 30\n",
      "Too low\n",
      "you've run out of guesses\n",
      "Your guesses were [1, 99, 50, 78, 54, 15, 20, 10, 10, 30]\n"
     ]
    }
   ],
   "source": [
    "import random\n",
    "\n",
    "# counter_\n",
    "guess_list = []\n",
    "high_score = 0\n",
    "\n",
    "current_score = 1000\n",
    "computer_guess = random.randint(1, 100)\n",
    "counter = 0\n",
    "\n",
    "while True:\n",
    "    \n",
    "    \n",
    "    user_guess = int(input(\"Please enter your guess (1-100 inc): \"))\n",
    "    while user_guess > 100 or user_guess < 0:\n",
    "        user_guess = int(input(\"Please enter your guess (1-100 inc): \"))\n",
    "\n",
    "    counter += 1\n",
    "    \n",
    "    if user_guess < computer_guess:\n",
    "        print(\"Too low\")\n",
    "        current_score -= 100\n",
    "        guess_list.append(user_guess)\n",
    "    elif user_guess > computer_guess:\n",
    "        print(\"Too high\")\n",
    "        current_score -= 100\n",
    "        guess_list.append(user_guess)\n",
    "    else:\n",
    "        print(\"Correct\")\n",
    "        print(\"Well done you've won\")\n",
    "        guess_list.append(user_guess)\n",
    "        print(f\"You have scored {current_score}\")\n",
    "        break\n",
    "\n",
    "    if counter == 10:\n",
    "        print(\"you've run out of guesses\")\n",
    "        break\n",
    "\n",
    "if user_score > high_score:\n",
    "    high_score = user_score\n",
    "    print(f\"Your guesses were {guess_list}\")\n",
    "    print(f\"You've just achieved a new high score of {high_score}\")\n",
    "    \n",
    "print(f\"Your guesses were {guess_list}\")\n"
   ]
  },
  {
   "cell_type": "code",
   "execution_count": 13,
   "id": "f527a0fc",
   "metadata": {},
   "outputs": [
    {
     "name": "stdout",
     "output_type": "stream",
     "text": [
      "You've just achieved a new high score of 4\n"
     ]
    }
   ],
   "source": [
    "#high_score = random.randint(1,10)\n",
    "\n",
    "print(f\"You've just achieved a new high score of {high_score}\")"
   ]
  },
  {
   "cell_type": "code",
   "execution_count": 15,
   "id": "301bcb8a",
   "metadata": {},
   "outputs": [
    {
     "name": "stdout",
     "output_type": "stream",
     "text": [
      "You've just achieved a new high score of {high_score}\n"
     ]
    }
   ],
   "source": [
    "print(\"You've just achieved a new high score of {high_score}\")"
   ]
  },
  {
   "cell_type": "markdown",
   "id": "1dac1a64",
   "metadata": {},
   "source": [
    "### "
   ]
  },
  {
   "cell_type": "code",
   "execution_count": null,
   "id": "1e92755c",
   "metadata": {},
   "outputs": [],
   "source": []
  },
  {
   "cell_type": "markdown",
   "id": "52bf806f",
   "metadata": {},
   "source": [
    "### Numpy\n",
    "#### 1D:22"
   ]
  },
  {
   "cell_type": "code",
   "execution_count": 16,
   "id": "c0da8fba",
   "metadata": {},
   "outputs": [],
   "source": [
    "import numpy as np\n",
    "\n",
    "a = np.array([1, 2, 3, 4, 5])\n"
   ]
  },
  {
   "cell_type": "code",
   "execution_count": 17,
   "id": "de442e64",
   "metadata": {},
   "outputs": [
    {
     "data": {
      "text/plain": [
       "array([1, 2, 3, 4, 5])"
      ]
     },
     "execution_count": 17,
     "metadata": {},
     "output_type": "execute_result"
    }
   ],
   "source": [
    "a"
   ]
  },
  {
   "cell_type": "code",
   "execution_count": 18,
   "id": "763eb282",
   "metadata": {},
   "outputs": [
    {
     "data": {
      "text/plain": [
       "numpy.ndarray"
      ]
     },
     "execution_count": 18,
     "metadata": {},
     "output_type": "execute_result"
    }
   ],
   "source": [
    "type(a)"
   ]
  },
  {
   "cell_type": "code",
   "execution_count": 19,
   "id": "6bc4d790",
   "metadata": {},
   "outputs": [
    {
     "name": "stdout",
     "output_type": "stream",
     "text": [
      "[[ 1  2  3  4  5]\n",
      " [ 2  4  6  8 10]\n",
      " [ 3  6  9 12 15]]\n"
     ]
    }
   ],
   "source": [
    "list_1 = [1, 2, 3, 4, 5]\n",
    "list_2 = [2, 4, 6, 8, 10]\n",
    "list_3 = [3, 6, 9, 12, 15]\n",
    "\n",
    "a = np.array([list_1, list_2, list_3])\n",
    "print(a)"
   ]
  },
  {
   "cell_type": "code",
   "execution_count": 20,
   "id": "3b65b77d",
   "metadata": {},
   "outputs": [
    {
     "data": {
      "text/plain": [
       "numpy.ndarray"
      ]
     },
     "execution_count": 20,
     "metadata": {},
     "output_type": "execute_result"
    }
   ],
   "source": [
    "type(a)"
   ]
  },
  {
   "cell_type": "code",
   "execution_count": 21,
   "id": "f5a47e25",
   "metadata": {},
   "outputs": [
    {
     "data": {
      "text/plain": [
       "array([1, 2, 3, 4, 5])"
      ]
     },
     "execution_count": 21,
     "metadata": {},
     "output_type": "execute_result"
    }
   ],
   "source": [
    "a[0]"
   ]
  },
  {
   "cell_type": "code",
   "execution_count": null,
   "id": "a9d9ec83",
   "metadata": {},
   "outputs": [],
   "source": []
  },
  {
   "cell_type": "code",
   "execution_count": null,
   "id": "cf1b36b4",
   "metadata": {},
   "outputs": [],
   "source": []
  },
  {
   "cell_type": "markdown",
   "id": "56859eae",
   "metadata": {},
   "source": [
    "#### shape\n",
    "#### 1D:30"
   ]
  },
  {
   "cell_type": "code",
   "execution_count": 22,
   "id": "80a3bfaa",
   "metadata": {},
   "outputs": [
    {
     "name": "stdout",
     "output_type": "stream",
     "text": [
      "(3,)\n"
     ]
    }
   ],
   "source": [
    "a = np.array([1, 2, 3])\n",
    "print(a.shape)"
   ]
  },
  {
   "cell_type": "code",
   "execution_count": 26,
   "id": "f12a09ff",
   "metadata": {},
   "outputs": [
    {
     "name": "stdout",
     "output_type": "stream",
     "text": [
      "(2, 3)\n"
     ]
    }
   ],
   "source": [
    "b = np.array([[1, 2, 3],\n",
    "              [4, 5, 6]])\n",
    "print(b.shape)"
   ]
  },
  {
   "cell_type": "code",
   "execution_count": 27,
   "id": "a318d706",
   "metadata": {},
   "outputs": [
    {
     "name": "stdout",
     "output_type": "stream",
     "text": [
      "(2, 3)\n"
     ]
    }
   ],
   "source": [
    "# same as above - just new line...\n",
    "b = np.array([[1, 2, 3],\n",
    "              [4, 5, 6]])\n",
    "print(b.shape)"
   ]
  },
  {
   "cell_type": "code",
   "execution_count": 29,
   "id": "04551b8d",
   "metadata": {},
   "outputs": [
    {
     "name": "stdout",
     "output_type": "stream",
     "text": [
      "(2, 2, 3)\n"
     ]
    }
   ],
   "source": [
    "c = np.array([[[1, 2, 3],[4, 5, 6]],\n",
    "              [[10, 20, 30],[40, 50, 60]]])\n",
    "print(c.shape)"
   ]
  },
  {
   "cell_type": "code",
   "execution_count": 30,
   "id": "6028d271",
   "metadata": {},
   "outputs": [
    {
     "name": "stdout",
     "output_type": "stream",
     "text": [
      "(2, 2, 3)\n"
     ]
    }
   ],
   "source": [
    "# same as above - just new line...\n",
    "\n",
    "c = np.array([[[1, 2, 3],\n",
    "               [4, 5, 6]],\n",
    "              [[10, 20, 30],\n",
    "               [40, 50, 60]]])\n",
    "\n",
    "print(c.shape)"
   ]
  },
  {
   "cell_type": "code",
   "execution_count": 31,
   "id": "96a7aad9",
   "metadata": {},
   "outputs": [
    {
     "name": "stdout",
     "output_type": "stream",
     "text": [
      "3\n"
     ]
    }
   ],
   "source": [
    "#### ndim\n",
    "\n",
    "c = np.array([[[1, 2, 3],[4, 5, 6]],\n",
    "              [[10, 20, 30],[40, 50, 60]]])\n",
    "\n",
    "\n",
    "print(c.ndim)"
   ]
  },
  {
   "cell_type": "code",
   "execution_count": 32,
   "id": "106f7648",
   "metadata": {},
   "outputs": [
    {
     "name": "stdout",
     "output_type": "stream",
     "text": [
      "3\n"
     ]
    }
   ],
   "source": [
    "#### ndim\n",
    "\n",
    "c2 = np.array([[[1, 2, 3, 1],[4, 5, 6, 1]],\n",
    "              [[10, 20, 30, 1],[40, 50, 60, 1]]])\n",
    "\n",
    "\n",
    "print(c2.ndim)"
   ]
  },
  {
   "cell_type": "markdown",
   "id": "781ade59",
   "metadata": {},
   "source": [
    "#### NumPy - Arrays - Homogeneity"
   ]
  },
  {
   "cell_type": "code",
   "execution_count": null,
   "id": "0499d6ec",
   "metadata": {},
   "outputs": [],
   "source": [
    "d = np.array([[1, 2, 3], [1, 2]])"
   ]
  },
  {
   "cell_type": "markdown",
   "id": "80a691a1",
   "metadata": {},
   "source": [
    "#### NumPy - Arrays - Mathematical Operations"
   ]
  },
  {
   "cell_type": "code",
   "execution_count": 34,
   "id": "ec860bc2",
   "metadata": {},
   "outputs": [
    {
     "name": "stdout",
     "output_type": "stream",
     "text": [
      "[ 4  8 12 16 20]\n"
     ]
    }
   ],
   "source": [
    "a = np.array([1, 2, 3, 4, 5])\n",
    "\n",
    "a = a * 4\n",
    "print(a)"
   ]
  },
  {
   "cell_type": "code",
   "execution_count": 36,
   "id": "9bf1af31",
   "metadata": {},
   "outputs": [
    {
     "data": {
      "text/plain": [
       "[1, 2, 3, 4, 5, 1, 2, 3, 4, 5, 1, 2, 3, 4, 5, 1, 2, 3, 4, 5]"
      ]
     },
     "execution_count": 36,
     "metadata": {},
     "output_type": "execute_result"
    }
   ],
   "source": [
    "list_a = [1, 2, 3, 4, 5]\n",
    "\n",
    "list_a * 4"
   ]
  },
  {
   "cell_type": "markdown",
   "id": "3ccbd8db",
   "metadata": {},
   "source": [
    "#### Slicing"
   ]
  },
  {
   "cell_type": "code",
   "execution_count": 37,
   "id": "8842001c",
   "metadata": {},
   "outputs": [
    {
     "name": "stdout",
     "output_type": "stream",
     "text": [
      "[12 14 16 18 20]\n",
      "3\n"
     ]
    }
   ],
   "source": [
    "b = np.array([[1, 2, 3, 4, 5],\n",
    "              [6, 7, 8, 9, 10]])\n",
    "\n",
    "c = b[1] * 2\n",
    "print(c)\n",
    "\n",
    "print(b[0][2])"
   ]
  },
  {
   "cell_type": "markdown",
   "id": "dd4a19d9",
   "metadata": {},
   "source": [
    "#### Statistics\n",
    "\n",
    "##### 1D:35"
   ]
  },
  {
   "cell_type": "code",
   "execution_count": null,
   "id": "48ccb997",
   "metadata": {},
   "outputs": [],
   "source": [
    "a = np.array([1, 2, 3, 4, 5])\n",
    "\n",
    "print( a.mean())\n",
    "\n",
    "\n",
    "b = np.array([[1, 2, 3, 4, 5], # sum of these = 15 / 5 = 3\n",
    "              [6, 7, 8, 9, 10]]) #  sum of these = 40 / 5 = 8\n",
    "\n",
    "\n",
    "# i.e., 1+6=7/2=3.5 2+7=9/2=4.5....\n",
    "print(np.mean(b, axis = 0 ))\n",
    "\n",
    "\n",
    "print(np.mean(b, axis = 1 ))\n",
    "\n"
   ]
  },
  {
   "cell_type": "markdown",
   "id": "02e7bf3b",
   "metadata": {},
   "source": [
    "#### Dot Prodcut\n",
    "\n",
    "##### 1D:36"
   ]
  },
  {
   "cell_type": "code",
   "execution_count": null,
   "id": "f61a2874",
   "metadata": {},
   "outputs": [],
   "source": [
    "a = np.array([1, 2, 3])\n",
    "b = np.array([2, 4, 6])\n",
    "\n",
    "dp = np.dot(a, b)\n",
    "print(dp)"
   ]
  },
  {
   "cell_type": "code",
   "execution_count": null,
   "id": "0ebeb650",
   "metadata": {},
   "outputs": [],
   "source": [
    "a = np.array([1, 2, 3, 4, 5])\n",
    "b = np.array([1, 1, 1, 1, 1])\n",
    "\n",
    "dp = np.dot(a, b)\n",
    "print(dp)"
   ]
  },
  {
   "cell_type": "markdown",
   "id": "a61cd73e",
   "metadata": {},
   "source": [
    "#### vstack + hstack\n",
    "##### 1D:37-38"
   ]
  },
  {
   "cell_type": "code",
   "execution_count": null,
   "id": "6f22fc4e",
   "metadata": {},
   "outputs": [],
   "source": [
    "b = np.array([[1, 2, 3, 4, 5],\n",
    "              [6, 7, 8, 9, 10]])\n",
    "\n",
    "list_to_add = [3, 6, 9, 12, 15]\n",
    "\n",
    "b = np.vstack([b, list_to_add])\n",
    "\n",
    "print(b)"
   ]
  },
  {
   "cell_type": "code",
   "execution_count": null,
   "id": "6b1f5aea",
   "metadata": {},
   "outputs": [],
   "source": [
    "b = np.array([[1, 2, 3, 4, 5],\n",
    "              [6, 7, 8, 9, 10]])\n",
    "\n",
    "col_to_add = [[6], [12]]\n",
    "\n",
    "b = np.hstack([b, col_to_add])\n",
    "\n",
    "print(b)"
   ]
  },
  {
   "cell_type": "code",
   "execution_count": null,
   "id": "d06e966d",
   "metadata": {},
   "outputs": [],
   "source": [
    "#### Removing Duplicate Data\n",
    "#### 1D:39"
   ]
  },
  {
   "cell_type": "code",
   "execution_count": null,
   "id": "1a99a0a6",
   "metadata": {},
   "outputs": [],
   "source": [
    "b = np.array([[1, 2, 3, 4, 5], # notice 5 in each line\n",
    "              [5, 6, 7, 8, 9]])\n",
    "\n",
    "b = np.unique(b)\n",
    "\n",
    "print(b)"
   ]
  },
  {
   "cell_type": "code",
   "execution_count": null,
   "id": "d893263f",
   "metadata": {},
   "outputs": [],
   "source": [
    "b = np.array([[1, 2, 3],\n",
    "              [4, 5, 6],\n",
    "              [1, 2, 3]])\n",
    "\n",
    "b = np.unique(b, axis=0)\n",
    "\n",
    "print(b)"
   ]
  },
  {
   "cell_type": "code",
   "execution_count": null,
   "id": "48a9553f",
   "metadata": {},
   "outputs": [],
   "source": [
    "#### Exercise 4\n",
    "#### 1D:41\n",
    "\n",
    "ages = [18, 19, 22, 23, 24, 27, 29, 31, 34, 46]\n",
    "prev_admissions = [0, 3, 2, 0, 0, 1, 2, 0, 0, 1]\n",
    "addmited_on_time = [1, 0, 0, 0, 0, 1, 1, 1, 0, 0]"
   ]
  },
  {
   "cell_type": "code",
   "execution_count": null,
   "id": "65f91484",
   "metadata": {},
   "outputs": [],
   "source": []
  },
  {
   "cell_type": "code",
   "execution_count": null,
   "id": "8486f29f",
   "metadata": {},
   "outputs": [],
   "source": []
  },
  {
   "cell_type": "code",
   "execution_count": null,
   "id": "18136517",
   "metadata": {},
   "outputs": [],
   "source": []
  },
  {
   "cell_type": "code",
   "execution_count": null,
   "id": "3f5ebb85",
   "metadata": {},
   "outputs": [],
   "source": []
  },
  {
   "cell_type": "code",
   "execution_count": null,
   "id": "8699a1db",
   "metadata": {},
   "outputs": [],
   "source": []
  },
  {
   "cell_type": "code",
   "execution_count": 90,
   "id": "7aa01402",
   "metadata": {},
   "outputs": [
    {
     "name": "stdout",
     "output_type": "stream",
     "text": [
      "   patient_ID         name  age  location\n",
      "0           1   Bob Rogers   46  Plymouth\n",
      "1           2   Fred Miles   31     Truro\n",
      "2           3  Janet Smith   27    Exeter\n"
     ]
    }
   ],
   "source": [
    "##### Creating a DF\n",
    "###### 1D:45-47\n",
    "\n",
    "import pandas as pd\n",
    "\n",
    "df = pd.DataFrame()\n",
    "\n",
    "list_of_patient_ids = [1, 2, 3]\n",
    "list_of_name = [\"Bob Rogers\", \"Fred Miles\", \"Janet Smith\"]\n",
    "list_of_ages = [46, 31, 27]\n",
    "list_of_locations = [\"Plymouth\", \"Truro\", \"Exeter\"]\n",
    "\n",
    "df[\"patient_ID\"] = list_of_patient_ids\n",
    "df[\"name\"] = list_of_name\n",
    "df[\"age\"] = list_of_ages\n",
    "df[\"location\"] = list_of_locations\n",
    "#df['elliotts_col'] = list_of_name\n",
    "\n",
    "print(df)"
   ]
  },
  {
   "cell_type": "code",
   "execution_count": 91,
   "id": "605ed637",
   "metadata": {},
   "outputs": [],
   "source": [
    "#### Specifying a DataFrame Index\n",
    "##### 1D:48\n",
    "\n",
    "df.set_index('patient_ID', inplace=True)"
   ]
  },
  {
   "cell_type": "code",
   "execution_count": 92,
   "id": "eba28055",
   "metadata": {},
   "outputs": [
    {
     "data": {
      "text/html": [
       "<div>\n",
       "<style scoped>\n",
       "    .dataframe tbody tr th:only-of-type {\n",
       "        vertical-align: middle;\n",
       "    }\n",
       "\n",
       "    .dataframe tbody tr th {\n",
       "        vertical-align: top;\n",
       "    }\n",
       "\n",
       "    .dataframe thead th {\n",
       "        text-align: right;\n",
       "    }\n",
       "</style>\n",
       "<table border=\"1\" class=\"dataframe\">\n",
       "  <thead>\n",
       "    <tr style=\"text-align: right;\">\n",
       "      <th></th>\n",
       "      <th>name</th>\n",
       "      <th>age</th>\n",
       "      <th>location</th>\n",
       "    </tr>\n",
       "    <tr>\n",
       "      <th>patient_ID</th>\n",
       "      <th></th>\n",
       "      <th></th>\n",
       "      <th></th>\n",
       "    </tr>\n",
       "  </thead>\n",
       "  <tbody>\n",
       "    <tr>\n",
       "      <th>1</th>\n",
       "      <td>Bob Rogers</td>\n",
       "      <td>46</td>\n",
       "      <td>Plymouth</td>\n",
       "    </tr>\n",
       "    <tr>\n",
       "      <th>2</th>\n",
       "      <td>Fred Miles</td>\n",
       "      <td>31</td>\n",
       "      <td>Truro</td>\n",
       "    </tr>\n",
       "    <tr>\n",
       "      <th>3</th>\n",
       "      <td>Janet Smith</td>\n",
       "      <td>27</td>\n",
       "      <td>Exeter</td>\n",
       "    </tr>\n",
       "  </tbody>\n",
       "</table>\n",
       "</div>"
      ],
      "text/plain": [
       "                   name  age  location\n",
       "patient_ID                            \n",
       "1            Bob Rogers   46  Plymouth\n",
       "2            Fred Miles   31     Truro\n",
       "3           Janet Smith   27    Exeter"
      ]
     },
     "execution_count": 92,
     "metadata": {},
     "output_type": "execute_result"
    }
   ],
   "source": [
    "df"
   ]
  },
  {
   "cell_type": "code",
   "execution_count": 93,
   "id": "1ad90d95",
   "metadata": {},
   "outputs": [
    {
     "name": "stdout",
     "output_type": "stream",
     "text": [
      "name        Fred Miles\n",
      "age                 31\n",
      "location         Truro\n",
      "Name: 2, dtype: object\n"
     ]
    }
   ],
   "source": [
    "#### Retrieving specific records using loc\n",
    "##### 1D:49\n",
    "\n",
    "print(df.loc[2])"
   ]
  },
  {
   "cell_type": "code",
   "execution_count": 97,
   "id": "730ce122",
   "metadata": {},
   "outputs": [
    {
     "name": "stdout",
     "output_type": "stream",
     "text": [
      "                   name  age location\n",
      "patient_ID                           \n",
      "2            Fred Miles   31    Truro\n",
      "3           Janet Smith   27   Exeter\n"
     ]
    }
   ],
   "source": [
    "print(df.loc[[2, 3]])"
   ]
  },
  {
   "cell_type": "code",
   "execution_count": 98,
   "id": "ca6c326e",
   "metadata": {},
   "outputs": [
    {
     "name": "stdout",
     "output_type": "stream",
     "text": [
      "                   name  age  location\n",
      "patient_ID                            \n",
      "1            Bob Rogers   46  Plymouth\n",
      "2            Fred Miles   31     Truro\n",
      "3           Janet Smith   27    Exeter\n"
     ]
    }
   ],
   "source": [
    "print(df.loc[1:3])"
   ]
  },
  {
   "cell_type": "code",
   "execution_count": 99,
   "id": "da8239d7",
   "metadata": {},
   "outputs": [
    {
     "data": {
      "text/html": [
       "<div>\n",
       "<style scoped>\n",
       "    .dataframe tbody tr th:only-of-type {\n",
       "        vertical-align: middle;\n",
       "    }\n",
       "\n",
       "    .dataframe tbody tr th {\n",
       "        vertical-align: top;\n",
       "    }\n",
       "\n",
       "    .dataframe thead th {\n",
       "        text-align: right;\n",
       "    }\n",
       "</style>\n",
       "<table border=\"1\" class=\"dataframe\">\n",
       "  <thead>\n",
       "    <tr style=\"text-align: right;\">\n",
       "      <th></th>\n",
       "      <th>name</th>\n",
       "      <th>age</th>\n",
       "      <th>location</th>\n",
       "    </tr>\n",
       "    <tr>\n",
       "      <th>patient_ID</th>\n",
       "      <th></th>\n",
       "      <th></th>\n",
       "      <th></th>\n",
       "    </tr>\n",
       "  </thead>\n",
       "  <tbody>\n",
       "    <tr>\n",
       "      <th>1</th>\n",
       "      <td>Bob Rogers</td>\n",
       "      <td>46</td>\n",
       "      <td>Plymouth</td>\n",
       "    </tr>\n",
       "    <tr>\n",
       "      <th>2</th>\n",
       "      <td>Fred Miles</td>\n",
       "      <td>31</td>\n",
       "      <td>Truro</td>\n",
       "    </tr>\n",
       "    <tr>\n",
       "      <th>3</th>\n",
       "      <td>Janet Smith</td>\n",
       "      <td>27</td>\n",
       "      <td>Exeter</td>\n",
       "    </tr>\n",
       "  </tbody>\n",
       "</table>\n",
       "</div>"
      ],
      "text/plain": [
       "                   name  age  location\n",
       "patient_ID                            \n",
       "1            Bob Rogers   46  Plymouth\n",
       "2            Fred Miles   31     Truro\n",
       "3           Janet Smith   27    Exeter"
      ]
     },
     "execution_count": 99,
     "metadata": {},
     "output_type": "execute_result"
    }
   ],
   "source": [
    "df"
   ]
  },
  {
   "cell_type": "code",
   "execution_count": 100,
   "id": "5d499ba4",
   "metadata": {},
   "outputs": [
    {
     "name": "stdout",
     "output_type": "stream",
     "text": [
      "patient_ID\n",
      "1     Bob Rogers\n",
      "2     Fred Miles\n",
      "3    Janet Smith\n",
      "Name: name, dtype: object\n"
     ]
    }
   ],
   "source": [
    "#### Retrieving specific columns\n",
    "##### 1D:50\n",
    "\n",
    "print(df['name'])"
   ]
  },
  {
   "cell_type": "code",
   "execution_count": 101,
   "id": "17c8dbc3",
   "metadata": {},
   "outputs": [
    {
     "name": "stdout",
     "output_type": "stream",
     "text": [
      "patient_ID\n",
      "1    Plymouth\n",
      "2       Truro\n",
      "3      Exeter\n",
      "Name: location, dtype: object\n"
     ]
    }
   ],
   "source": [
    "print(df['location'])"
   ]
  },
  {
   "cell_type": "code",
   "execution_count": 105,
   "id": "8008b3db",
   "metadata": {},
   "outputs": [
    {
     "name": "stdout",
     "output_type": "stream",
     "text": [
      "            location  age\n",
      "patient_ID               \n",
      "1           Plymouth   46\n",
      "2              Truro   31\n",
      "3             Exeter   27\n"
     ]
    }
   ],
   "source": [
    "print(df[['location','age']])"
   ]
  },
  {
   "cell_type": "code",
   "execution_count": 106,
   "id": "f2e05535",
   "metadata": {},
   "outputs": [
    {
     "data": {
      "text/html": [
       "<div>\n",
       "<style scoped>\n",
       "    .dataframe tbody tr th:only-of-type {\n",
       "        vertical-align: middle;\n",
       "    }\n",
       "\n",
       "    .dataframe tbody tr th {\n",
       "        vertical-align: top;\n",
       "    }\n",
       "\n",
       "    .dataframe thead th {\n",
       "        text-align: right;\n",
       "    }\n",
       "</style>\n",
       "<table border=\"1\" class=\"dataframe\">\n",
       "  <thead>\n",
       "    <tr style=\"text-align: right;\">\n",
       "      <th></th>\n",
       "      <th>patient_ID</th>\n",
       "      <th>name</th>\n",
       "      <th>age</th>\n",
       "      <th>location</th>\n",
       "    </tr>\n",
       "  </thead>\n",
       "  <tbody>\n",
       "    <tr>\n",
       "      <th>0</th>\n",
       "      <td>4</td>\n",
       "      <td>Lucy Rivers</td>\n",
       "      <td>28</td>\n",
       "      <td>Plymouth</td>\n",
       "    </tr>\n",
       "    <tr>\n",
       "      <th>1</th>\n",
       "      <td>5</td>\n",
       "      <td>Dave Jones</td>\n",
       "      <td>61</td>\n",
       "      <td>Plymouth</td>\n",
       "    </tr>\n",
       "  </tbody>\n",
       "</table>\n",
       "</div>"
      ],
      "text/plain": [
       "   patient_ID         name  age  location\n",
       "0           4  Lucy Rivers   28  Plymouth\n",
       "1           5   Dave Jones   61  Plymouth"
      ]
     },
     "execution_count": 106,
     "metadata": {},
     "output_type": "execute_result"
    }
   ],
   "source": [
    "#### Adding more Rows\n",
    "\n",
    "df2 = pd.DataFrame({\"patient_ID\" : [4, 5],\n",
    "                  \"name\" : [\"Lucy Rivers\", \"Dave Jones\"], # col names must match!\n",
    "                  \"age\" : [28, 61],\n",
    "                  \"location\" : [\"Plymouth\", \"Plymouth\"]})\n",
    "\n",
    "df2"
   ]
  },
  {
   "cell_type": "code",
   "execution_count": 108,
   "id": "3ef95fa3",
   "metadata": {},
   "outputs": [],
   "source": [
    "df2.set_index(\"patient_ID\", inplace= True)"
   ]
  },
  {
   "cell_type": "code",
   "execution_count": 109,
   "id": "dcff5d0c",
   "metadata": {},
   "outputs": [
    {
     "data": {
      "text/html": [
       "<div>\n",
       "<style scoped>\n",
       "    .dataframe tbody tr th:only-of-type {\n",
       "        vertical-align: middle;\n",
       "    }\n",
       "\n",
       "    .dataframe tbody tr th {\n",
       "        vertical-align: top;\n",
       "    }\n",
       "\n",
       "    .dataframe thead th {\n",
       "        text-align: right;\n",
       "    }\n",
       "</style>\n",
       "<table border=\"1\" class=\"dataframe\">\n",
       "  <thead>\n",
       "    <tr style=\"text-align: right;\">\n",
       "      <th></th>\n",
       "      <th>name</th>\n",
       "      <th>age</th>\n",
       "      <th>location</th>\n",
       "    </tr>\n",
       "    <tr>\n",
       "      <th>patient_ID</th>\n",
       "      <th></th>\n",
       "      <th></th>\n",
       "      <th></th>\n",
       "    </tr>\n",
       "  </thead>\n",
       "  <tbody>\n",
       "    <tr>\n",
       "      <th>4</th>\n",
       "      <td>Lucy Rivers</td>\n",
       "      <td>28</td>\n",
       "      <td>Plymouth</td>\n",
       "    </tr>\n",
       "    <tr>\n",
       "      <th>5</th>\n",
       "      <td>Dave Jones</td>\n",
       "      <td>61</td>\n",
       "      <td>Plymouth</td>\n",
       "    </tr>\n",
       "  </tbody>\n",
       "</table>\n",
       "</div>"
      ],
      "text/plain": [
       "                   name  age  location\n",
       "patient_ID                            \n",
       "4           Lucy Rivers   28  Plymouth\n",
       "5            Dave Jones   61  Plymouth"
      ]
     },
     "execution_count": 109,
     "metadata": {},
     "output_type": "execute_result"
    }
   ],
   "source": [
    "df2"
   ]
  },
  {
   "cell_type": "code",
   "execution_count": 110,
   "id": "59b95674",
   "metadata": {},
   "outputs": [
    {
     "data": {
      "text/html": [
       "<div>\n",
       "<style scoped>\n",
       "    .dataframe tbody tr th:only-of-type {\n",
       "        vertical-align: middle;\n",
       "    }\n",
       "\n",
       "    .dataframe tbody tr th {\n",
       "        vertical-align: top;\n",
       "    }\n",
       "\n",
       "    .dataframe thead th {\n",
       "        text-align: right;\n",
       "    }\n",
       "</style>\n",
       "<table border=\"1\" class=\"dataframe\">\n",
       "  <thead>\n",
       "    <tr style=\"text-align: right;\">\n",
       "      <th></th>\n",
       "      <th>name</th>\n",
       "      <th>age</th>\n",
       "      <th>location</th>\n",
       "    </tr>\n",
       "    <tr>\n",
       "      <th>patient_ID</th>\n",
       "      <th></th>\n",
       "      <th></th>\n",
       "      <th></th>\n",
       "    </tr>\n",
       "  </thead>\n",
       "  <tbody>\n",
       "    <tr>\n",
       "      <th>1</th>\n",
       "      <td>Bob Rogers</td>\n",
       "      <td>46</td>\n",
       "      <td>Plymouth</td>\n",
       "    </tr>\n",
       "    <tr>\n",
       "      <th>2</th>\n",
       "      <td>Fred Miles</td>\n",
       "      <td>31</td>\n",
       "      <td>Truro</td>\n",
       "    </tr>\n",
       "    <tr>\n",
       "      <th>3</th>\n",
       "      <td>Janet Smith</td>\n",
       "      <td>27</td>\n",
       "      <td>Exeter</td>\n",
       "    </tr>\n",
       "  </tbody>\n",
       "</table>\n",
       "</div>"
      ],
      "text/plain": [
       "                   name  age  location\n",
       "patient_ID                            \n",
       "1            Bob Rogers   46  Plymouth\n",
       "2            Fred Miles   31     Truro\n",
       "3           Janet Smith   27    Exeter"
      ]
     },
     "execution_count": 110,
     "metadata": {},
     "output_type": "execute_result"
    }
   ],
   "source": [
    "df"
   ]
  },
  {
   "cell_type": "code",
   "execution_count": 111,
   "id": "48be26e1",
   "metadata": {},
   "outputs": [
    {
     "name": "stdout",
     "output_type": "stream",
     "text": [
      "                   name  age  location\n",
      "patient_ID                            \n",
      "1            Bob Rogers   46  Plymouth\n",
      "2            Fred Miles   31     Truro\n",
      "3           Janet Smith   27    Exeter\n",
      "4           Lucy Rivers   28  Plymouth\n",
      "5            Dave Jones   61  Plymouth\n"
     ]
    }
   ],
   "source": [
    "#df2.set_index(\"patient_ID\", inplace= True)\n",
    "\n",
    "df = pd.concat([df, df2])\n",
    "\n",
    "print(df)"
   ]
  },
  {
   "cell_type": "code",
   "execution_count": 112,
   "id": "ac07e65c",
   "metadata": {},
   "outputs": [
    {
     "data": {
      "text/html": [
       "<div>\n",
       "<style scoped>\n",
       "    .dataframe tbody tr th:only-of-type {\n",
       "        vertical-align: middle;\n",
       "    }\n",
       "\n",
       "    .dataframe tbody tr th {\n",
       "        vertical-align: top;\n",
       "    }\n",
       "\n",
       "    .dataframe thead th {\n",
       "        text-align: right;\n",
       "    }\n",
       "</style>\n",
       "<table border=\"1\" class=\"dataframe\">\n",
       "  <thead>\n",
       "    <tr style=\"text-align: right;\">\n",
       "      <th></th>\n",
       "      <th>name</th>\n",
       "      <th>age</th>\n",
       "      <th>location</th>\n",
       "    </tr>\n",
       "    <tr>\n",
       "      <th>patient_ID</th>\n",
       "      <th></th>\n",
       "      <th></th>\n",
       "      <th></th>\n",
       "    </tr>\n",
       "  </thead>\n",
       "  <tbody>\n",
       "    <tr>\n",
       "      <th>1</th>\n",
       "      <td>Bob Rogers</td>\n",
       "      <td>46</td>\n",
       "      <td>Plymouth</td>\n",
       "    </tr>\n",
       "    <tr>\n",
       "      <th>2</th>\n",
       "      <td>Fred Miles</td>\n",
       "      <td>31</td>\n",
       "      <td>Truro</td>\n",
       "    </tr>\n",
       "    <tr>\n",
       "      <th>3</th>\n",
       "      <td>Janet Smith</td>\n",
       "      <td>27</td>\n",
       "      <td>Exeter</td>\n",
       "    </tr>\n",
       "    <tr>\n",
       "      <th>4</th>\n",
       "      <td>Lucy Rivers</td>\n",
       "      <td>28</td>\n",
       "      <td>Plymouth</td>\n",
       "    </tr>\n",
       "    <tr>\n",
       "      <th>5</th>\n",
       "      <td>Dave Jones</td>\n",
       "      <td>61</td>\n",
       "      <td>Plymouth</td>\n",
       "    </tr>\n",
       "  </tbody>\n",
       "</table>\n",
       "</div>"
      ],
      "text/plain": [
       "                   name  age  location\n",
       "patient_ID                            \n",
       "1            Bob Rogers   46  Plymouth\n",
       "2            Fred Miles   31     Truro\n",
       "3           Janet Smith   27    Exeter\n",
       "4           Lucy Rivers   28  Plymouth\n",
       "5            Dave Jones   61  Plymouth"
      ]
     },
     "execution_count": 112,
     "metadata": {},
     "output_type": "execute_result"
    }
   ],
   "source": [
    "df"
   ]
  },
  {
   "cell_type": "code",
   "execution_count": null,
   "id": "d5a33840",
   "metadata": {},
   "outputs": [],
   "source": []
  },
  {
   "cell_type": "code",
   "execution_count": null,
   "id": "be443a0e",
   "metadata": {},
   "outputs": [],
   "source": []
  },
  {
   "cell_type": "code",
   "execution_count": 113,
   "id": "ca81ce08",
   "metadata": {
    "scrolled": true
   },
   "outputs": [
    {
     "name": "stdout",
     "output_type": "stream",
     "text": [
      "                   name  age  location  previoulsy_admitted\n",
      "patient_ID                                                 \n",
      "1            Bob Rogers   46  Plymouth                 True\n",
      "2            Fred Miles   31     Truro                 True\n",
      "3           Janet Smith   27    Exeter                False\n",
      "4           Lucy Rivers   28  Plymouth                False\n",
      "5            Dave Jones   61  Plymouth                False\n"
     ]
    }
   ],
   "source": [
    "list_of_prev_admissions = [True, True, False, False, False]\n",
    "df[\"previoulsy_admitted\"] = list_of_prev_admissions\n",
    "print(df)"
   ]
  },
  {
   "cell_type": "code",
   "execution_count": 114,
   "id": "60527757",
   "metadata": {},
   "outputs": [
    {
     "data": {
      "text/html": [
       "<div>\n",
       "<style scoped>\n",
       "    .dataframe tbody tr th:only-of-type {\n",
       "        vertical-align: middle;\n",
       "    }\n",
       "\n",
       "    .dataframe tbody tr th {\n",
       "        vertical-align: top;\n",
       "    }\n",
       "\n",
       "    .dataframe thead th {\n",
       "        text-align: right;\n",
       "    }\n",
       "</style>\n",
       "<table border=\"1\" class=\"dataframe\">\n",
       "  <thead>\n",
       "    <tr style=\"text-align: right;\">\n",
       "      <th></th>\n",
       "      <th>name</th>\n",
       "      <th>age</th>\n",
       "      <th>location</th>\n",
       "      <th>previoulsy_admitted</th>\n",
       "    </tr>\n",
       "    <tr>\n",
       "      <th>patient_ID</th>\n",
       "      <th></th>\n",
       "      <th></th>\n",
       "      <th></th>\n",
       "      <th></th>\n",
       "    </tr>\n",
       "  </thead>\n",
       "  <tbody>\n",
       "    <tr>\n",
       "      <th>1</th>\n",
       "      <td>Bob Rogers</td>\n",
       "      <td>46</td>\n",
       "      <td>Plymouth</td>\n",
       "      <td>True</td>\n",
       "    </tr>\n",
       "    <tr>\n",
       "      <th>2</th>\n",
       "      <td>Fred Miles</td>\n",
       "      <td>31</td>\n",
       "      <td>Truro</td>\n",
       "      <td>True</td>\n",
       "    </tr>\n",
       "    <tr>\n",
       "      <th>3</th>\n",
       "      <td>Janet Smith</td>\n",
       "      <td>27</td>\n",
       "      <td>Exeter</td>\n",
       "      <td>False</td>\n",
       "    </tr>\n",
       "    <tr>\n",
       "      <th>4</th>\n",
       "      <td>Lucy Rivers</td>\n",
       "      <td>28</td>\n",
       "      <td>Plymouth</td>\n",
       "      <td>False</td>\n",
       "    </tr>\n",
       "    <tr>\n",
       "      <th>5</th>\n",
       "      <td>Dave Jones</td>\n",
       "      <td>61</td>\n",
       "      <td>Plymouth</td>\n",
       "      <td>False</td>\n",
       "    </tr>\n",
       "  </tbody>\n",
       "</table>\n",
       "</div>"
      ],
      "text/plain": [
       "                   name  age  location  previoulsy_admitted\n",
       "patient_ID                                                 \n",
       "1            Bob Rogers   46  Plymouth                 True\n",
       "2            Fred Miles   31     Truro                 True\n",
       "3           Janet Smith   27    Exeter                False\n",
       "4           Lucy Rivers   28  Plymouth                False\n",
       "5            Dave Jones   61  Plymouth                False"
      ]
     },
     "execution_count": 114,
     "metadata": {},
     "output_type": "execute_result"
    }
   ],
   "source": [
    "df"
   ]
  },
  {
   "cell_type": "markdown",
   "id": "d20b6a7d",
   "metadata": {},
   "source": [
    "#### Exercise 5\n",
    "##### 1D: 53\n",
    "\n",
    ") Stores the four columns as separate lists (in real applications, you can use functions to read in real data from a .csv file, in case you’re worried!)\n",
    "2) Creates a new Pandas DataFrame that contains this data in named columns, with MIU Number as the index\n",
    "3) Prints out the data for MIU Numbers 571 and 732\n",
    "4) Prints out the location column of the data\n",
    "5) Adds a new column that stores the mean number of patients seen per day, which are 4, 3, 3, 1, 2 respectively, then prints the dataframe.\n",
    "6) Adds a new row representing the data for MIU number 901, which is a morning MIU with X-Ray facilities in Callington, that sees 5 patients per day, then prints the dataframe."
   ]
  },
  {
   "cell_type": "code",
   "execution_count": null,
   "id": "92ff3f6b",
   "metadata": {},
   "outputs": [],
   "source": []
  },
  {
   "cell_type": "code",
   "execution_count": null,
   "id": "ee49b9b7",
   "metadata": {},
   "outputs": [],
   "source": []
  },
  {
   "cell_type": "code",
   "execution_count": 115,
   "id": "b2fb82e0",
   "metadata": {},
   "outputs": [
    {
     "name": "stdout",
     "output_type": "stream",
     "text": [
      "   miu_number     location   xray       open\n",
      "0         463  Lostwithiel   True    Morning\n",
      "1         571   St Austell  False  Afternoon\n",
      "2         614        Truro   True  Afternoon\n",
      "3         732         Looe  False    Morning\n",
      "4         817     Camborne   True    Evening\n"
     ]
    }
   ],
   "source": [
    "#### Exercise 5\n",
    "##### 1D: 53\n",
    "\n",
    "df = pd.DataFrame({\"miu_number\" : [463, 571, 614, 732, 817],\n",
    "                   \"location\" : [\"Lostwithiel\", \"St Austell\", \"Truro\", \"Looe\", \"Camborne\"],\n",
    "                   \"xray\" : [True, False, True, False, True],\n",
    "                   \"open\" : [\"Morning\", \"Afternoon\", \"Afternoon\", \"Morning\", \"Evening\"],\n",
    "                  })\n",
    "\n",
    "print(df)"
   ]
  },
  {
   "cell_type": "code",
   "execution_count": 118,
   "id": "f87b6174",
   "metadata": {},
   "outputs": [],
   "source": [
    "df.set_index(\"miu_number\", inplace=True)"
   ]
  },
  {
   "cell_type": "code",
   "execution_count": 119,
   "id": "a13a087e",
   "metadata": {},
   "outputs": [
    {
     "data": {
      "text/html": [
       "<div>\n",
       "<style scoped>\n",
       "    .dataframe tbody tr th:only-of-type {\n",
       "        vertical-align: middle;\n",
       "    }\n",
       "\n",
       "    .dataframe tbody tr th {\n",
       "        vertical-align: top;\n",
       "    }\n",
       "\n",
       "    .dataframe thead th {\n",
       "        text-align: right;\n",
       "    }\n",
       "</style>\n",
       "<table border=\"1\" class=\"dataframe\">\n",
       "  <thead>\n",
       "    <tr style=\"text-align: right;\">\n",
       "      <th></th>\n",
       "      <th>location</th>\n",
       "      <th>xray</th>\n",
       "      <th>open</th>\n",
       "    </tr>\n",
       "    <tr>\n",
       "      <th>miu_number</th>\n",
       "      <th></th>\n",
       "      <th></th>\n",
       "      <th></th>\n",
       "    </tr>\n",
       "  </thead>\n",
       "  <tbody>\n",
       "    <tr>\n",
       "      <th>463</th>\n",
       "      <td>Lostwithiel</td>\n",
       "      <td>True</td>\n",
       "      <td>Morning</td>\n",
       "    </tr>\n",
       "    <tr>\n",
       "      <th>571</th>\n",
       "      <td>St Austell</td>\n",
       "      <td>False</td>\n",
       "      <td>Afternoon</td>\n",
       "    </tr>\n",
       "    <tr>\n",
       "      <th>614</th>\n",
       "      <td>Truro</td>\n",
       "      <td>True</td>\n",
       "      <td>Afternoon</td>\n",
       "    </tr>\n",
       "    <tr>\n",
       "      <th>732</th>\n",
       "      <td>Looe</td>\n",
       "      <td>False</td>\n",
       "      <td>Morning</td>\n",
       "    </tr>\n",
       "    <tr>\n",
       "      <th>817</th>\n",
       "      <td>Camborne</td>\n",
       "      <td>True</td>\n",
       "      <td>Evening</td>\n",
       "    </tr>\n",
       "  </tbody>\n",
       "</table>\n",
       "</div>"
      ],
      "text/plain": [
       "               location   xray       open\n",
       "miu_number                               \n",
       "463         Lostwithiel   True    Morning\n",
       "571          St Austell  False  Afternoon\n",
       "614               Truro   True  Afternoon\n",
       "732                Looe  False    Morning\n",
       "817            Camborne   True    Evening"
      ]
     },
     "execution_count": 119,
     "metadata": {},
     "output_type": "execute_result"
    }
   ],
   "source": [
    "# this will display the DF\n",
    "df"
   ]
  },
  {
   "cell_type": "markdown",
   "id": "23d1a225",
   "metadata": {},
   "source": [
    "\n",
    "\n",
    "5) Adds a new column that stores the mean number of patients seen per day, which are 4, 3, 3, 1, 2 respectively, then prints the dataframe.\n",
    "6) Adds a new row representing the data for MIU number 901, which is a morning MIU with X-Ray facilities in Callington, that sees 5 patients per day, then prints the dataframe."
   ]
  },
  {
   "cell_type": "code",
   "execution_count": 120,
   "id": "abb86da6",
   "metadata": {},
   "outputs": [
    {
     "name": "stdout",
     "output_type": "stream",
     "text": [
      "              location   xray       open\n",
      "miu_number                              \n",
      "571         St Austell  False  Afternoon\n",
      "732               Looe  False    Morning\n"
     ]
    }
   ],
   "source": [
    "#3) Prints out the data for MIU Numbers 571 and 732\n",
    "\n",
    "print(df.loc[[571, 732]])"
   ]
  },
  {
   "cell_type": "code",
   "execution_count": 121,
   "id": "dc544064",
   "metadata": {},
   "outputs": [
    {
     "name": "stdout",
     "output_type": "stream",
     "text": [
      "miu_number\n",
      "463    Lostwithiel\n",
      "571     St Austell\n",
      "614          Truro\n",
      "732           Looe\n",
      "817       Camborne\n",
      "Name: location, dtype: object\n"
     ]
    }
   ],
   "source": [
    "# 4) Prints out the location column of the data\n",
    "\n",
    "print(df['location'])"
   ]
  },
  {
   "cell_type": "code",
   "execution_count": 128,
   "id": "bb19fb00",
   "metadata": {},
   "outputs": [
    {
     "name": "stdout",
     "output_type": "stream",
     "text": [
      "               location   xray       open  avg_pts_seen\n",
      "miu_number                                             \n",
      "463         Lostwithiel   True    Morning             4\n",
      "571          St Austell  False  Afternoon             3\n",
      "614               Truro   True  Afternoon             3\n",
      "732                Looe  False    Morning             1\n",
      "817            Camborne   True    Evening             2\n"
     ]
    }
   ],
   "source": [
    "# 5) Adds a new column that stores the mean number of patients seen per day, which are 4, 3, 3, 1, 2 \n",
    "# respectively, then prints the dataframe.\n",
    "\n",
    "avg_pats = [4, 3, 3, 1, 2]\n",
    "\n",
    "df['avg_pts_seen'] = avg_pats\n",
    "\n",
    "print(df)"
   ]
  },
  {
   "cell_type": "code",
   "execution_count": 133,
   "id": "a2185411",
   "metadata": {},
   "outputs": [],
   "source": [
    "# 6) Adds a new row representing the data for MIU number 901, which is a morning MIU \n",
    "# with X-Ray facilities in Callington, that sees 5 patients per day, then prints the dataframe.\n",
    "\n",
    "# df_bup = df.copy()\n",
    "\n",
    "df_new_row = pd.DataFrame({\"miu_number\" : [901],\n",
    "                          \"location\" : [\"Callington\"],\n",
    "                          \"xray\" : [True],\n",
    "                          \"open\" : [\"Morning\"],\n",
    "                          \"avg_pts_seen\" : [5]})\n",
    "\n",
    "df_new_row.set_index(\"miu_number\", inplace=True)"
   ]
  },
  {
   "cell_type": "code",
   "execution_count": 135,
   "id": "a0c0888e",
   "metadata": {},
   "outputs": [
    {
     "data": {
      "text/html": [
       "<div>\n",
       "<style scoped>\n",
       "    .dataframe tbody tr th:only-of-type {\n",
       "        vertical-align: middle;\n",
       "    }\n",
       "\n",
       "    .dataframe tbody tr th {\n",
       "        vertical-align: top;\n",
       "    }\n",
       "\n",
       "    .dataframe thead th {\n",
       "        text-align: right;\n",
       "    }\n",
       "</style>\n",
       "<table border=\"1\" class=\"dataframe\">\n",
       "  <thead>\n",
       "    <tr style=\"text-align: right;\">\n",
       "      <th></th>\n",
       "      <th>location</th>\n",
       "      <th>xray</th>\n",
       "      <th>open</th>\n",
       "      <th>avg_pts_seen</th>\n",
       "    </tr>\n",
       "    <tr>\n",
       "      <th>miu_number</th>\n",
       "      <th></th>\n",
       "      <th></th>\n",
       "      <th></th>\n",
       "      <th></th>\n",
       "    </tr>\n",
       "  </thead>\n",
       "  <tbody>\n",
       "    <tr>\n",
       "      <th>901</th>\n",
       "      <td>Callington</td>\n",
       "      <td>True</td>\n",
       "      <td>Morning</td>\n",
       "      <td>5</td>\n",
       "    </tr>\n",
       "  </tbody>\n",
       "</table>\n",
       "</div>"
      ],
      "text/plain": [
       "              location  xray     open  avg_pts_seen\n",
       "miu_number                                         \n",
       "901         Callington  True  Morning             5"
      ]
     },
     "execution_count": 135,
     "metadata": {},
     "output_type": "execute_result"
    }
   ],
   "source": [
    "df_new_row"
   ]
  },
  {
   "cell_type": "code",
   "execution_count": 136,
   "id": "8d967970",
   "metadata": {},
   "outputs": [
    {
     "name": "stdout",
     "output_type": "stream",
     "text": [
      "               location   xray       open  avg_pts_seen\n",
      "miu_number                                             \n",
      "463         Lostwithiel   True    Morning             4\n",
      "571          St Austell  False  Afternoon             3\n",
      "614               Truro   True  Afternoon             3\n",
      "732                Looe  False    Morning             1\n",
      "817            Camborne   True    Evening             2\n",
      "901          Callington   True    Morning             5\n"
     ]
    }
   ],
   "source": [
    "df = pd.concat([df, df_new_row])\n",
    "print(df)"
   ]
  },
  {
   "cell_type": "code",
   "execution_count": null,
   "id": "1cd8a520",
   "metadata": {},
   "outputs": [],
   "source": []
  },
  {
   "cell_type": "code",
   "execution_count": null,
   "id": "0c773f0f",
   "metadata": {},
   "outputs": [],
   "source": []
  },
  {
   "cell_type": "code",
   "execution_count": null,
   "id": "9b3d6bc9",
   "metadata": {},
   "outputs": [],
   "source": []
  },
  {
   "cell_type": "code",
   "execution_count": null,
   "id": "465829d6",
   "metadata": {},
   "outputs": [],
   "source": []
  },
  {
   "cell_type": "code",
   "execution_count": null,
   "id": "40862160",
   "metadata": {},
   "outputs": [],
   "source": []
  },
  {
   "cell_type": "code",
   "execution_count": null,
   "id": "e5a0d2a6",
   "metadata": {},
   "outputs": [],
   "source": []
  },
  {
   "cell_type": "code",
   "execution_count": null,
   "id": "b1c14aa5",
   "metadata": {},
   "outputs": [],
   "source": [
    "pd.read_xls()"
   ]
  },
  {
   "cell_type": "code",
   "execution_count": 82,
   "id": "9c0baa7c",
   "metadata": {},
   "outputs": [
    {
     "data": {
      "text/html": [
       "<div>\n",
       "<style scoped>\n",
       "    .dataframe tbody tr th:only-of-type {\n",
       "        vertical-align: middle;\n",
       "    }\n",
       "\n",
       "    .dataframe tbody tr th {\n",
       "        vertical-align: top;\n",
       "    }\n",
       "\n",
       "    .dataframe thead th {\n",
       "        text-align: right;\n",
       "    }\n",
       "</style>\n",
       "<table border=\"1\" class=\"dataframe\">\n",
       "  <thead>\n",
       "    <tr style=\"text-align: right;\">\n",
       "      <th></th>\n",
       "      <th>Afghanistan</th>\n",
       "      <th>38928346</th>\n",
       "      <th>652860</th>\n",
       "      <th>60</th>\n",
       "    </tr>\n",
       "  </thead>\n",
       "  <tbody>\n",
       "    <tr>\n",
       "      <th>0</th>\n",
       "      <td>Albania</td>\n",
       "      <td>2877797</td>\n",
       "      <td>27400</td>\n",
       "      <td>105</td>\n",
       "    </tr>\n",
       "    <tr>\n",
       "      <th>1</th>\n",
       "      <td>Algeria</td>\n",
       "      <td>43851044</td>\n",
       "      <td>2381740</td>\n",
       "      <td>18</td>\n",
       "    </tr>\n",
       "    <tr>\n",
       "      <th>2</th>\n",
       "      <td>Andorra</td>\n",
       "      <td>77265</td>\n",
       "      <td>470</td>\n",
       "      <td>164</td>\n",
       "    </tr>\n",
       "    <tr>\n",
       "      <th>3</th>\n",
       "      <td>Angola</td>\n",
       "      <td>32866272</td>\n",
       "      <td>1246700</td>\n",
       "      <td>26</td>\n",
       "    </tr>\n",
       "    <tr>\n",
       "      <th>4</th>\n",
       "      <td>Antigua and Barbuda</td>\n",
       "      <td>97929</td>\n",
       "      <td>440</td>\n",
       "      <td>223</td>\n",
       "    </tr>\n",
       "    <tr>\n",
       "      <th>...</th>\n",
       "      <td>...</td>\n",
       "      <td>...</td>\n",
       "      <td>...</td>\n",
       "      <td>...</td>\n",
       "    </tr>\n",
       "    <tr>\n",
       "      <th>189</th>\n",
       "      <td>Venezuela</td>\n",
       "      <td>28435940</td>\n",
       "      <td>882050</td>\n",
       "      <td>32</td>\n",
       "    </tr>\n",
       "    <tr>\n",
       "      <th>190</th>\n",
       "      <td>Vietnam</td>\n",
       "      <td>97338579</td>\n",
       "      <td>310070</td>\n",
       "      <td>314</td>\n",
       "    </tr>\n",
       "    <tr>\n",
       "      <th>191</th>\n",
       "      <td>Yemen</td>\n",
       "      <td>29825964</td>\n",
       "      <td>527970</td>\n",
       "      <td>56</td>\n",
       "    </tr>\n",
       "    <tr>\n",
       "      <th>192</th>\n",
       "      <td>Zambia</td>\n",
       "      <td>18383955</td>\n",
       "      <td>743390</td>\n",
       "      <td>25</td>\n",
       "    </tr>\n",
       "    <tr>\n",
       "      <th>193</th>\n",
       "      <td>Zimbabwe</td>\n",
       "      <td>14862924</td>\n",
       "      <td>386850</td>\n",
       "      <td>38</td>\n",
       "    </tr>\n",
       "  </tbody>\n",
       "</table>\n",
       "<p>194 rows × 4 columns</p>\n",
       "</div>"
      ],
      "text/plain": [
       "             Afghanistan  38928346   652860   60\n",
       "0                Albania   2877797    27400  105\n",
       "1                Algeria  43851044  2381740   18\n",
       "2                Andorra     77265      470  164\n",
       "3                 Angola  32866272  1246700   26\n",
       "4    Antigua and Barbuda     97929      440  223\n",
       "..                   ...       ...      ...  ...\n",
       "189            Venezuela  28435940   882050   32\n",
       "190              Vietnam  97338579   310070  314\n",
       "191                Yemen  29825964   527970   56\n",
       "192               Zambia  18383955   743390   25\n",
       "193             Zimbabwe  14862924   386850   38\n",
       "\n",
       "[194 rows x 4 columns]"
      ]
     },
     "execution_count": 82,
     "metadata": {},
     "output_type": "execute_result"
    }
   ],
   "source": [
    "pd.read_csv('country_details.csv')"
   ]
  },
  {
   "cell_type": "code",
   "execution_count": 81,
   "id": "aeed79dd",
   "metadata": {},
   "outputs": [
    {
     "data": {
      "text/html": [
       "<div>\n",
       "<style scoped>\n",
       "    .dataframe tbody tr th:only-of-type {\n",
       "        vertical-align: middle;\n",
       "    }\n",
       "\n",
       "    .dataframe tbody tr th {\n",
       "        vertical-align: top;\n",
       "    }\n",
       "\n",
       "    .dataframe thead th {\n",
       "        text-align: right;\n",
       "    }\n",
       "</style>\n",
       "<table border=\"1\" class=\"dataframe\">\n",
       "  <thead>\n",
       "    <tr style=\"text-align: right;\">\n",
       "      <th></th>\n",
       "      <th>country</th>\n",
       "      <th>population</th>\n",
       "      <th>land_area</th>\n",
       "      <th>density</th>\n",
       "    </tr>\n",
       "  </thead>\n",
       "  <tbody>\n",
       "    <tr>\n",
       "      <th>0</th>\n",
       "      <td>Afghanistan</td>\n",
       "      <td>38928346</td>\n",
       "      <td>652860</td>\n",
       "      <td>60</td>\n",
       "    </tr>\n",
       "    <tr>\n",
       "      <th>1</th>\n",
       "      <td>Albania</td>\n",
       "      <td>2877797</td>\n",
       "      <td>27400</td>\n",
       "      <td>105</td>\n",
       "    </tr>\n",
       "    <tr>\n",
       "      <th>2</th>\n",
       "      <td>Algeria</td>\n",
       "      <td>43851044</td>\n",
       "      <td>2381740</td>\n",
       "      <td>18</td>\n",
       "    </tr>\n",
       "    <tr>\n",
       "      <th>3</th>\n",
       "      <td>Andorra</td>\n",
       "      <td>77265</td>\n",
       "      <td>470</td>\n",
       "      <td>164</td>\n",
       "    </tr>\n",
       "    <tr>\n",
       "      <th>4</th>\n",
       "      <td>Angola</td>\n",
       "      <td>32866272</td>\n",
       "      <td>1246700</td>\n",
       "      <td>26</td>\n",
       "    </tr>\n",
       "    <tr>\n",
       "      <th>...</th>\n",
       "      <td>...</td>\n",
       "      <td>...</td>\n",
       "      <td>...</td>\n",
       "      <td>...</td>\n",
       "    </tr>\n",
       "    <tr>\n",
       "      <th>190</th>\n",
       "      <td>Venezuela</td>\n",
       "      <td>28435940</td>\n",
       "      <td>882050</td>\n",
       "      <td>32</td>\n",
       "    </tr>\n",
       "    <tr>\n",
       "      <th>191</th>\n",
       "      <td>Vietnam</td>\n",
       "      <td>97338579</td>\n",
       "      <td>310070</td>\n",
       "      <td>314</td>\n",
       "    </tr>\n",
       "    <tr>\n",
       "      <th>192</th>\n",
       "      <td>Yemen</td>\n",
       "      <td>29825964</td>\n",
       "      <td>527970</td>\n",
       "      <td>56</td>\n",
       "    </tr>\n",
       "    <tr>\n",
       "      <th>193</th>\n",
       "      <td>Zambia</td>\n",
       "      <td>18383955</td>\n",
       "      <td>743390</td>\n",
       "      <td>25</td>\n",
       "    </tr>\n",
       "    <tr>\n",
       "      <th>194</th>\n",
       "      <td>Zimbabwe</td>\n",
       "      <td>14862924</td>\n",
       "      <td>386850</td>\n",
       "      <td>38</td>\n",
       "    </tr>\n",
       "  </tbody>\n",
       "</table>\n",
       "<p>195 rows × 4 columns</p>\n",
       "</div>"
      ],
      "text/plain": [
       "         country  population  land_area  density\n",
       "0    Afghanistan    38928346     652860       60\n",
       "1        Albania     2877797      27400      105\n",
       "2        Algeria    43851044    2381740       18\n",
       "3        Andorra       77265        470      164\n",
       "4         Angola    32866272    1246700       26\n",
       "..           ...         ...        ...      ...\n",
       "190    Venezuela    28435940     882050       32\n",
       "191      Vietnam    97338579     310070      314\n",
       "192        Yemen    29825964     527970       56\n",
       "193       Zambia    18383955     743390       25\n",
       "194     Zimbabwe    14862924     386850       38\n",
       "\n",
       "[195 rows x 4 columns]"
      ]
     },
     "execution_count": 81,
     "metadata": {},
     "output_type": "execute_result"
    }
   ],
   "source": [
    "col_headers = ['country','population','land_area','density']\n",
    "\n",
    "pd.read_csv('country_details.csv', names = col_headers)"
   ]
  },
  {
   "cell_type": "code",
   "execution_count": 68,
   "id": "459e4c6b",
   "metadata": {},
   "outputs": [
    {
     "data": {
      "text/plain": [
       "0       59.627403\n",
       "1      105.029088\n",
       "2       18.411348\n",
       "3      164.393617\n",
       "4       26.362615\n",
       "          ...    \n",
       "190     32.238467\n",
       "191    313.924530\n",
       "192     56.491778\n",
       "193     24.729893\n",
       "194     38.420380\n",
       "Name: calc, Length: 195, dtype: float64"
      ]
     },
     "execution_count": 68,
     "metadata": {},
     "output_type": "execute_result"
    }
   ],
   "source": [
    "df = pd.read_csv('country_details.csv', names = col_headers)\n",
    "\n",
    "df['calc'] = df['population'] / df['land_area']"
   ]
  },
  {
   "cell_type": "code",
   "execution_count": null,
   "id": "15927b4b",
   "metadata": {},
   "outputs": [],
   "source": []
  }
 ],
 "metadata": {
  "kernelspec": {
   "display_name": "Python 3 (ipykernel)",
   "language": "python",
   "name": "python3"
  },
  "language_info": {
   "codemirror_mode": {
    "name": "ipython",
    "version": 3
   },
   "file_extension": ".py",
   "mimetype": "text/x-python",
   "name": "python",
   "nbconvert_exporter": "python",
   "pygments_lexer": "ipython3",
   "version": "3.9.12"
  }
 },
 "nbformat": 4,
 "nbformat_minor": 5
}
